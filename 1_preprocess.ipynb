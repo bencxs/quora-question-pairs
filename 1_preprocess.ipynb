{
 "cells": [
  {
   "cell_type": "code",
   "execution_count": 1,
   "metadata": {
    "collapsed": true
   },
   "outputs": [],
   "source": [
    "import pandas as pd\n",
    "import numpy as np\n",
    "import re\n",
    "import seaborn as sns\n",
    "import matplotlib.pyplot as plt\n",
    "from IPython.display import display # Allows the use of display() for DataFrames\n",
    "%matplotlib inline"
   ]
  },
  {
   "cell_type": "code",
   "execution_count": 2,
   "metadata": {
    "collapsed": false
   },
   "outputs": [
    {
     "name": "stdout",
     "output_type": "stream",
     "text": [
      "train.csv loaded. Preprocessing...\n",
      "Preprocess done!\n"
     ]
    }
   ],
   "source": [
    "def tokenize_str(string):\n",
    "    '''\n",
    "    Tokenization/string cleaning\n",
    "    \n",
    "    '''\n",
    "    string = re.sub(r\"[^A-Za-z0-9()[],?\\'\\`]\", \" \", string)\n",
    "    string = re.sub(r\"\\'s\", \" \\'s\", string)\n",
    "    string = re.sub(r\"\\’s\", \" \\'s\", string)\n",
    "    string = re.sub(r\"\\'m\", \" am\", string)\n",
    "    string = re.sub(r\"\\'ve\", \" have\", string)\n",
    "    string = re.sub(r\"can\\'t\", \" cannot\", string)\n",
    "    string = re.sub(r\"n\\'t\", \" not\", string)\n",
    "    string = re.sub(r\"\\'re\", \" are\", string)\n",
    "    string = re.sub(r\"\\'d\", \" had\", string)\n",
    "    string = re.sub(r\"\\'ll\", \" will\", string)\n",
    "    string = re.sub(r\",\", \" , \", string)\n",
    "    string = re.sub(r\"[...]\", \" \", string)\n",
    "    string = re.sub(r\"/\", \" or \", string)\n",
    "    string = re.sub(r\"-\", \" \", string)\n",
    "    string = re.sub(r\"\\(\", \" \\( \", string)\n",
    "    string = re.sub(r\"\\)\", \" \\) \", string)\n",
    "    string = re.sub(r\"\\?\", \" \\? \", string)\n",
    "    string = re.sub(r\"\\s{2,}\", \" \", string)\n",
    "    return string.strip().lower()\n",
    "\n",
    "def load_data_and_preprocess(filename):\n",
    "    '''\n",
    "    Read csv file into a DataFrame and tokenize Q1 and Q2 strings\n",
    "    '''\n",
    "    df = pd.read_csv(filename)\n",
    "    print(filename + \" loaded. Preprocessing...\")\n",
    "    df[\"q1\"] = df[\"question1\"].apply(lambda row: tokenize_str(str(row)))\n",
    "    df[\"q2\"] = df[\"question2\"].apply(lambda row: tokenize_str(str(row)))\n",
    "    print(\"Preprocess done!\")\n",
    "    return df\n",
    "\n",
    "df_train = load_data_and_preprocess(\"train.csv\")"
   ]
  },
  {
   "cell_type": "code",
   "execution_count": 3,
   "metadata": {
    "collapsed": false
   },
   "outputs": [
    {
     "name": "stdout",
     "output_type": "stream",
     "text": [
      "(80, \"when will the bjp government strip all the muslims and the christians of the indian citizenship and put them on boats like the rohingya 's of burma \\\\?\")\n",
      "(80, 'why india does not apply the \"burma rohingya model\" to deport illegal bangladeshis \\\\?')\n",
      "\n",
      "(81, 'what is the right etiquette for wishing a jehovah witness happy birthday \\\\?')\n",
      "(81, 'how important is it to be the first person to wish someone a happy birthday \\\\?')\n",
      "\n",
      "(82, 'if someone wants to open a commercial fm radio station in any city of india , how much does it cost and what is the procedure \\\\?')\n",
      "(82, 'i want to make a travel commercial or clip video hd , for india and new zealand how much will it cost \\\\?')\n",
      "\n",
      "(83, 'why do swiss despise asians \\\\?')\n",
      "(83, 'why do technical employees despise sales people so much \\\\?')\n",
      "\n",
      "(84, 'what are some of the high salary income jobs in the field of biotechnology \\\\?')\n",
      "(84, 'what are some high paying jobs for a fresher with an m tech in biotechnology \\\\?')\n",
      "\n",
      "(85, 'how can i increase my height after 21 also \\\\?')\n",
      "(85, 'can height increase after 25 \\\\?')\n",
      "\n",
      "(86, 'what were the major effects of the cambodia earthquake , and how do these effects compare to the kamchatca earthquakes in 1952 \\\\?')\n",
      "(86, 'what were the major effects of the cambodia earthquake , and how do these effects compare to the valparaiso earthquake in 1822 \\\\?')\n",
      "\n",
      "(87, 'what is the difference between sincerity and fairness \\\\?')\n",
      "(87, \"what 's the difference between honest and sincere \\\\?\")\n",
      "\n",
      "(88, 'which is the best gaming laptop under 60k inr \\\\?')\n",
      "(88, 'which is the best gaming laptop under rs 60000 \\\\?')\n",
      "\n",
      "(89, 'what is your review of the next warrior: proving grounds part 9 \\\\?')\n",
      "(89, 'what is your review of the next warrior: proving grounds part 5 \\\\?')\n",
      "\n"
     ]
    }
   ],
   "source": [
    "# Inspect several samples of preprocessed text\n",
    "a = 80\n",
    "for i in range(a,a+10):\n",
    "    print(i, df_train[\"q1\"][i])\n",
    "    print(i, df_train[\"q2\"][i])\n",
    "    print(\"\")"
   ]
  },
  {
   "cell_type": "code",
   "execution_count": 4,
   "metadata": {
    "collapsed": false
   },
   "outputs": [
    {
     "name": "stdout",
     "output_type": "stream",
     "text": [
      "what is the step by step guide to invest in share market in india \\? what is the step by step guide to invest in share market \\?\n"
     ]
    }
   ],
   "source": [
    "# Merge Q1 and Q2 as one feature\n",
    "df_train[\"merged\"] = df_train[\"q1\"] + \" \" + df_train[\"q2\"]\n",
    "\n",
    "print(df_train[\"merged\"][0])"
   ]
  },
  {
   "cell_type": "code",
   "execution_count": 5,
   "metadata": {
    "collapsed": false
   },
   "outputs": [
    {
     "name": "stdout",
     "output_type": "stream",
     "text": [
      "(400247, 9)\n",
      "(4043L,)\n",
      "(400247L,)\n",
      "(4043L,)\n"
     ]
    }
   ],
   "source": [
    "# Split into stratified training and validation set\n",
    "from sklearn.model_selection import train_test_split\n",
    "\n",
    "X_train, X_val, y_train, y_val = train_test_split(\n",
    "    df_train, \n",
    "    df_train[\"is_duplicate\"], \n",
    "    test_size=0.01, \n",
    "    random_state=42)\n",
    "\n",
    "# Drop all columns except \"merged\" for X_val as it is the feature\n",
    "# We keep all columns in X_train as we want to use those to oversample later\n",
    "X_val = X_val[\"merged\"]\n",
    "\n",
    "print(X_train.shape)\n",
    "print(X_val.shape)\n",
    "print(y_train.shape)\n",
    "print(y_val.shape)"
   ]
  },
  {
   "cell_type": "code",
   "execution_count": 6,
   "metadata": {
    "collapsed": false
   },
   "outputs": [
    {
     "name": "stdout",
     "output_type": "stream",
     "text": [
      "('Total positive pair examples: ', 147768)\n",
      "('Total negative pair examples: ', 252479)\n",
      "Percentage duplicates in dataset: 36.92 %\n",
      "Neg class needs to be: 747796.0 to balance to 16.5 % duplicates.\n",
      "147768\n",
      "147768\n",
      "252479\n",
      "147768\n",
      "147768\n",
      "('Total oversampled examples to choose from: ', 843551)\n",
      "('Total examples in rebalanced dataset: ', 747796)\n"
     ]
    },
    {
     "data": {
      "text/html": [
       "<div>\n",
       "<table border=\"1\" class=\"dataframe\">\n",
       "  <thead>\n",
       "    <tr style=\"text-align: right;\">\n",
       "      <th></th>\n",
       "      <th>q1</th>\n",
       "      <th>q2</th>\n",
       "      <th>is_duplicate</th>\n",
       "    </tr>\n",
       "  </thead>\n",
       "  <tbody>\n",
       "    <tr>\n",
       "      <th>0</th>\n",
       "      <td>why cannot india also have a presidential deba...</td>\n",
       "      <td>we are thinking of advertising in appcraver co...</td>\n",
       "      <td>0</td>\n",
       "    </tr>\n",
       "    <tr>\n",
       "      <th>1</th>\n",
       "      <td>what is happening in syria \\?</td>\n",
       "      <td>what 's happening in syria and why russia invo...</td>\n",
       "      <td>0</td>\n",
       "    </tr>\n",
       "    <tr>\n",
       "      <th>2</th>\n",
       "      <td>which is the best website for online study of ...</td>\n",
       "      <td>which is the best website for online study of ...</td>\n",
       "      <td>0</td>\n",
       "    </tr>\n",
       "    <tr>\n",
       "      <th>3</th>\n",
       "      <td>how do i treat low blood pressure \\?</td>\n",
       "      <td>how can we treat high blood pressure \\?</td>\n",
       "      <td>0</td>\n",
       "    </tr>\n",
       "    <tr>\n",
       "      <th>4</th>\n",
       "      <td>what is contractile vacuole \\?</td>\n",
       "      <td>what does a vacuole do \\?</td>\n",
       "      <td>0</td>\n",
       "    </tr>\n",
       "  </tbody>\n",
       "</table>\n",
       "</div>"
      ],
      "text/plain": [
       "                                                  q1  \\\n",
       "0  why cannot india also have a presidential deba...   \n",
       "1                      what is happening in syria \\?   \n",
       "2  which is the best website for online study of ...   \n",
       "3               how do i treat low blood pressure \\?   \n",
       "4                     what is contractile vacuole \\?   \n",
       "\n",
       "                                                  q2  is_duplicate  \n",
       "0  we are thinking of advertising in appcraver co...             0  \n",
       "1  what 's happening in syria and why russia invo...             0  \n",
       "2  which is the best website for online study of ...             0  \n",
       "3            how can we treat high blood pressure \\?             0  \n",
       "4                          what does a vacuole do \\?             0  "
      ]
     },
     "metadata": {},
     "output_type": "display_data"
    },
    {
     "data": {
      "text/html": [
       "<div>\n",
       "<table border=\"1\" class=\"dataframe\">\n",
       "  <thead>\n",
       "    <tr style=\"text-align: right;\">\n",
       "      <th></th>\n",
       "      <th>q1</th>\n",
       "      <th>q2</th>\n",
       "      <th>is_duplicate</th>\n",
       "    </tr>\n",
       "  </thead>\n",
       "  <tbody>\n",
       "    <tr>\n",
       "      <th>747791</th>\n",
       "      <td>how can one become perfect in his life \\?</td>\n",
       "      <td>vocational education details in hindi \\?</td>\n",
       "      <td>0</td>\n",
       "    </tr>\n",
       "    <tr>\n",
       "      <th>747792</th>\n",
       "      <td>how do i get acquainted and make friends with ...</td>\n",
       "      <td>how plausible is it for ragnar lothbrok to hav...</td>\n",
       "      <td>0</td>\n",
       "    </tr>\n",
       "    <tr>\n",
       "      <th>747793</th>\n",
       "      <td>what are some interesting places to visit in c...</td>\n",
       "      <td>is listening to music while studying good for ...</td>\n",
       "      <td>0</td>\n",
       "    </tr>\n",
       "    <tr>\n",
       "      <th>747794</th>\n",
       "      <td>what are hillary clinton 's plans for india \\?</td>\n",
       "      <td>what should i do if i have no wisdom teeth \\?</td>\n",
       "      <td>0</td>\n",
       "    </tr>\n",
       "    <tr>\n",
       "      <th>747795</th>\n",
       "      <td>which computer language is the most used \\?</td>\n",
       "      <td>i need to make corrections to my pan card , wh...</td>\n",
       "      <td>0</td>\n",
       "    </tr>\n",
       "  </tbody>\n",
       "</table>\n",
       "</div>"
      ],
      "text/plain": [
       "                                                       q1  \\\n",
       "747791          how can one become perfect in his life \\?   \n",
       "747792  how do i get acquainted and make friends with ...   \n",
       "747793  what are some interesting places to visit in c...   \n",
       "747794     what are hillary clinton 's plans for india \\?   \n",
       "747795        which computer language is the most used \\?   \n",
       "\n",
       "                                                       q2  is_duplicate  \n",
       "747791           vocational education details in hindi \\?             0  \n",
       "747792  how plausible is it for ragnar lothbrok to hav...             0  \n",
       "747793  is listening to music while studying good for ...             0  \n",
       "747794      what should i do if i have no wisdom teeth \\?             0  \n",
       "747795  i need to make corrections to my pan card , wh...             0  "
      ]
     },
     "metadata": {},
     "output_type": "display_data"
    },
    {
     "data": {
      "text/html": [
       "<div>\n",
       "<table border=\"1\" class=\"dataframe\">\n",
       "  <thead>\n",
       "    <tr style=\"text-align: right;\">\n",
       "      <th></th>\n",
       "      <th>q1</th>\n",
       "      <th>q2</th>\n",
       "    </tr>\n",
       "  </thead>\n",
       "  <tbody>\n",
       "    <tr>\n",
       "      <th>count</th>\n",
       "      <td>747796</td>\n",
       "      <td>747796</td>\n",
       "    </tr>\n",
       "    <tr>\n",
       "      <th>unique</th>\n",
       "      <td>330762</td>\n",
       "      <td>361434</td>\n",
       "    </tr>\n",
       "    <tr>\n",
       "      <th>top</th>\n",
       "      <td>how do i lose weight \\?</td>\n",
       "      <td>how can you look at someone 's private instagr...</td>\n",
       "    </tr>\n",
       "    <tr>\n",
       "      <th>freq</th>\n",
       "      <td>191</td>\n",
       "      <td>134</td>\n",
       "    </tr>\n",
       "  </tbody>\n",
       "</table>\n",
       "</div>"
      ],
      "text/plain": [
       "                             q1  \\\n",
       "count                    747796   \n",
       "unique                   330762   \n",
       "top     how do i lose weight \\?   \n",
       "freq                        191   \n",
       "\n",
       "                                                       q2  \n",
       "count                                              747796  \n",
       "unique                                             361434  \n",
       "top     how can you look at someone 's private instagr...  \n",
       "freq                                                  134  "
      ]
     },
     "metadata": {},
     "output_type": "display_data"
    }
   ],
   "source": [
    "# Random oversampling\n",
    "\n",
    "df_pos = X_train[X_train[\"is_duplicate\"] == 1]\n",
    "df_neg = X_train[X_train[\"is_duplicate\"] == 0]\n",
    "\n",
    "print(\"Total positive pair examples: \", len(df_pos))\n",
    "print(\"Total negative pair examples: \", len(df_neg))\n",
    "\n",
    "def pos_neg_stats(df_pos, df_neg, pct):\n",
    "    '''\n",
    "    Calculates stats on class imbalance\n",
    "    '''\n",
    "    # Pos / Pos + Neg * 100\n",
    "    pos_neg_ratio = float(len(df_pos)) / (len(df_pos) + len(df_neg)) * 100\n",
    "    print(\"Percentage duplicates in dataset: \" + str(np.round(pos_neg_ratio, 2)) + \" %\")\n",
    "\n",
    "    # Pos / Pos + Neg = 16.5%, then: Neg = Pos * 100 / 16.5 - Pos\n",
    "    neg_class = (len(df_pos) * 100 / pct) - len(df_pos)\n",
    "    print(\"Neg class needs to be: \" +\n",
    "          str(np.round(neg_class, 0)) + \" to balance to \" + str(pct) + \" % duplicates.\")\n",
    "\n",
    "def random_oversample(pos, neg, size):\n",
    "    '''\n",
    "    Oversamples majority class by an amount\n",
    "    '''\n",
    "    pos = pos.sample(frac=1).reset_index(drop=True)\n",
    "    neg = neg.sample(frac=1).reset_index(drop=True)\n",
    "    \n",
    "    df = pd.DataFrame()\n",
    "    df[\"q1\"] = pos[\"q1\"]\n",
    "    df[\"q2\"] = neg[\"q2\"]\n",
    "    print(len(df))\n",
    "    \n",
    "    df2 = pd.DataFrame()\n",
    "    df2[\"q1\"] = pos[\"q2\"]\n",
    "    df2[\"q2\"] = neg[\"q1\"]\n",
    "    print(len(df2))\n",
    "    \n",
    "    df = df.append(df2)\n",
    "    \n",
    "    pos = pos.sample(frac=1).reset_index(drop=True)\n",
    "    neg = neg.sample(frac=1).reset_index(drop=True)\n",
    "    \n",
    "    df3 = pd.DataFrame()\n",
    "    df3[\"q1\"] = neg[\"q2\"]\n",
    "    df3[\"q2\"] = neg[\"q1\"]\n",
    "    print(len(df3))\n",
    "    \n",
    "    df = df.append(df3)\n",
    "    \n",
    "    pos = pos.sample(frac=1).reset_index(drop=True)\n",
    "    neg = neg.sample(frac=1).reset_index(drop=True)\n",
    "    \n",
    "    df4 = pd.DataFrame()\n",
    "    df4[\"q1\"] = pos[\"q2\"]\n",
    "    df4[\"q2\"] = neg[\"q2\"]\n",
    "    print(len(df4))\n",
    "    \n",
    "    df = df.append(df4)\n",
    "    \n",
    "    pos = pos.sample(frac=1).reset_index(drop=True)\n",
    "    neg = neg.sample(frac=1).reset_index(drop=True)\n",
    "    \n",
    "    df5 = pd.DataFrame()\n",
    "    df5[\"q1\"] = pos[\"q1\"]\n",
    "    df5[\"q2\"] = neg[\"q1\"]\n",
    "    print(len(df5))\n",
    "    \n",
    "    df = df.append(df5)\n",
    "    df = df.reset_index(drop=True)\n",
    "    print(\"Total oversampled examples to choose from: \", len(df))\n",
    "    \n",
    "    df_sample_ind = np.random.choice(df.index.values, size=size, replace=False)\n",
    "    df_sample = df.loc[df_sample_ind]\n",
    "    df_sample = df_sample.reset_index(drop=True)\n",
    "    df_sample[\"is_duplicate\"] = 0 \n",
    "    \n",
    "    print(\"Total examples in rebalanced dataset: \", len(df_sample))\n",
    "    display(df_sample.head())\n",
    "    display(df_sample.tail())\n",
    "    display(df_sample[[\"q1\", \"q2\"]].describe())\n",
    "    \n",
    "    return df_sample\n",
    "    \n",
    "pos_neg_stats(df_pos, df_neg, 16.5)\n",
    "df_sample = random_oversample(df_pos, df_neg, 747796)"
   ]
  },
  {
   "cell_type": "code",
   "execution_count": 7,
   "metadata": {
    "collapsed": false
   },
   "outputs": [
    {
     "name": "stdout",
     "output_type": "stream",
     "text": [
      "747796\n",
      "747796\n"
     ]
    }
   ],
   "source": [
    "# Merge Q1 and Q2 as one feature\n",
    "df_sample[\"merged\"] = df_sample[\"q1\"] + \" \" + df_sample[\"q2\"]\n",
    "\n",
    "# Set feature and value\n",
    "X_train_sample = df_sample[\"merged\"]\n",
    "y_train_sample = df_sample[\"is_duplicate\"]\n",
    "\n",
    "print(len(X_train_sample))\n",
    "print(len(y_train_sample))"
   ]
  },
  {
   "cell_type": "code",
   "execution_count": 8,
   "metadata": {
    "collapsed": false
   },
   "outputs": [
    {
     "name": "stdout",
     "output_type": "stream",
     "text": [
      "seq length stats: \n",
      "('Max: ', 1322)\n",
      "('Min: ', 12)\n",
      "\n",
      "('Q1: ', 92.0)\n",
      "('Mean: ', 126.0879177589883)\n",
      "('Q3: ', 149.0)\n",
      "('IQR: ', 57.0)\n",
      "Outlier range: < 6.5 and > 234.5\n"
     ]
    },
    {
     "data": {
      "image/png": "[encoded data removed]",
      "text/plain": [
       "<matplotlib.figure.Figure at 0x1b7627b8>"
      ]
     },
     "metadata": {},
     "output_type": "display_data"
    }
   ],
   "source": [
    "# Concatenate training and validation set for sequence length analysis\n",
    "# and token id encoding later\n",
    "X_all = pd.concat([X_train_sample, X_val], axis=0)\n",
    "\n",
    "# Plot sequence length of questions, and determine outliers\n",
    "sns.set_style('whitegrid')\n",
    "seq_length = []\n",
    "for row in X_all:\n",
    "    seq_length.append(len(row))\n",
    "\n",
    "sns.distplot(seq_length, kde=False)\n",
    "plt.xlabel(\"Sequence length\")\n",
    "plt.ylabel(\"Occurences\")\n",
    "\n",
    "print(\"seq length stats: \")\n",
    "print(\"Max: \", max(seq_length))\n",
    "print(\"Min: \", min(seq_length))\n",
    "print(\"\")\n",
    "Q1 = np.percentile(seq_length, 25)\n",
    "Q3 = np.percentile(seq_length, 75)\n",
    "IQR = Q3 - Q1\n",
    "print(\"Q1: \", Q1)\n",
    "print(\"Mean: \", np.mean(seq_length))\n",
    "print(\"Q3: \", Q3)\n",
    "print(\"IQR: \", IQR)\n",
    "print(\"Outlier range: < \" + str(Q1 - 1.5*IQR) + \" and > \" + str(Q3 + 1.5*IQR))"
   ]
  },
  {
   "cell_type": "code",
   "execution_count": 9,
   "metadata": {
    "collapsed": false
   },
   "outputs": [
    {
     "name": "stdout",
     "output_type": "stream",
     "text": [
      "('Vocabulary size: ', 107557)\n"
     ]
    }
   ],
   "source": [
    "def build_vocabulary(df):\n",
    "    '''\n",
    "    Assigns an id to each unique word in dataset\n",
    "    '''\n",
    "    # Splits train dataset into tokens and calculates the unique number of tokens\n",
    "    unique = [word for row in df for word in row.split()]\n",
    "    token_count = set(unique)\n",
    "    print(\"Vocabulary size: \", len(token_count))\n",
    "    \n",
    "    # Build vocabulary\n",
    "    vocab = {}\n",
    "    for i, u in enumerate(token_count):\n",
    "        vocab[u] = i\n",
    "    \n",
    "    return vocab\n",
    "\n",
    "vocab = build_vocabulary(X_all)"
   ]
  },
  {
   "cell_type": "code",
   "execution_count": 10,
   "metadata": {
    "collapsed": false
   },
   "outputs": [
    {
     "name": "stdout",
     "output_type": "stream",
     "text": [
      "[[12607, 84925, 43748, 55720, 57468, 45385, 69880, 53246, 9535, 20354, 70708, 28980, 64874, 30452, 106257, 55851, 24785, 4970, 20354, 64586, 70594, 47163, 45385, 83331, 98474, 23190, 1674, 47163, 59088, 54998, 22142, 58526, 70308, 11502, 89714, 81834, 60085, 18367, 14650, 67446, 89645, 10010, 650, 88181, 27057, 1543, 70299, 41552, 47163, 52100, 20362, 27536, 47163, 47810, 45169, 7743, 18367, 34903, 80932, 3252, 64874], [92184, 16549, 7274, 20354, 31939, 64874, 92184, 80932, 7274, 20354, 31939, 52100, 12607, 27710, 96492, 64874]]\n",
      "[[40419, 70497, 73133, 68785, 63050, 8176, 20354, 78973, 64874, 40419, 70497, 73133, 68785, 63050, 8176, 20354, 53784, 64874], [92184, 106257, 99638, 24785, 70708, 13509, 95438, 56539, 67446, 86274, 35641, 64874, 92184, 106257, 99638, 102619, 95438, 56539, 67446, 12199, 53244, 64874]]\n"
     ]
    }
   ],
   "source": [
    "def convert_token_to_token_id(df, vocabulary):\n",
    "    '''\n",
    "    Converts tokens in dataframe into ids, referencing from a vocabulary\n",
    "    '''\n",
    "    token_id = []\n",
    "    for row in df:\n",
    "        iid = []\n",
    "        for word in row.split():\n",
    "            iid.append(vocabulary.get(word))\n",
    "        token_id.append(iid)\n",
    "    return token_id\n",
    "\n",
    "X_train_sample = convert_token_to_token_id(X_train_sample, vocab)\n",
    "X_val = convert_token_to_token_id(X_val, vocab)\n",
    "\n",
    "print(X_train_sample[:2])\n",
    "print(X_val[:2])"
   ]
  },
  {
   "cell_type": "code",
   "execution_count": 11,
   "metadata": {
    "collapsed": false
   },
   "outputs": [
    {
     "name": "stdout",
     "output_type": "stream",
     "text": [
      "File saved.\n"
     ]
    }
   ],
   "source": [
    "# Saves preprocessed data into a pickle file\n",
    "import pickle\n",
    "\n",
    "with open('preprocess_1.pickle', 'wb') as f:\n",
    "    pickle.dump(X_train_sample, f, protocol=pickle.HIGHEST_PROTOCOL)\n",
    "    pickle.dump(X_val, f, protocol=pickle.HIGHEST_PROTOCOL)\n",
    "    pickle.dump(y_train_sample, f, protocol=pickle.HIGHEST_PROTOCOL)\n",
    "    pickle.dump(y_val, f, protocol=pickle.HIGHEST_PROTOCOL)\n",
    "    \n",
    "print(\"File saved.\")"
   ]
  },
  {
   "cell_type": "code",
   "execution_count": null,
   "metadata": {
    "collapsed": true
   },
   "outputs": [],
   "source": []
  }
 ],
 "metadata": {
  "anaconda-cloud": {},
  "kernelspec": {
   "display_name": "Python [Root]",
   "language": "python",
   "name": "Python [Root]"
  },
  "language_info": {
   "codemirror_mode": {
    "name": "ipython",
    "version": 2
   },
   "file_extension": ".py",
   "mimetype": "text/x-python",
   "name": "python",
   "nbconvert_exporter": "python",
   "pygments_lexer": "ipython2",
   "version": "2.7.12"
  }
 },
 "nbformat": 4,
 "nbformat_minor": 0
}

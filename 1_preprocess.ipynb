{
 "cells": [
  {
   "cell_type": "code",
   "execution_count": 76,
   "metadata": {
    "collapsed": true
   },
   "outputs": [],
   "source": [
    "import pandas as pd\n",
    "import numpy as np\n",
    "import re\n",
    "from IPython.display import display # Allows the use of display() for DataFrames"
   ]
  },
  {
   "cell_type": "code",
   "execution_count": 2,
   "metadata": {
    "collapsed": false
   },
   "outputs": [
    {
     "name": "stdout",
     "output_type": "stream",
     "text": [
      "train.csv loaded. Preprocessing...\n",
      "Preprocess done!\n"
     ]
    }
   ],
   "source": [
    "def tokenize_str(string):\n",
    "    '''\n",
    "    Tokenization/string cleaning\n",
    "    \n",
    "    '''\n",
    "    string = re.sub(r\"[^A-Za-z0-9()[],?\\'\\`]\", \" \", string)\n",
    "    string = re.sub(r\"\\'s\", \" \\'s\", string)\n",
    "    string = re.sub(r\"\\’s\", \" \\'s\", string)\n",
    "    string = re.sub(r\"\\'m\", \" am\", string)\n",
    "    string = re.sub(r\"\\'ve\", \" have\", string)\n",
    "    string = re.sub(r\"can\\'t\", \" cannot\", string)\n",
    "    string = re.sub(r\"n\\'t\", \" not\", string)\n",
    "    string = re.sub(r\"\\'re\", \" are\", string)\n",
    "    string = re.sub(r\"\\'d\", \" had\", string)\n",
    "    string = re.sub(r\"\\'ll\", \" will\", string)\n",
    "    string = re.sub(r\",\", \" , \", string)\n",
    "    string = re.sub(r\"[...]\", \" \", string)\n",
    "    string = re.sub(r\"/\", \" or \", string)\n",
    "    string = re.sub(r\"-\", \" \", string)\n",
    "    string = re.sub(r\"\\(\", \" \\( \", string)\n",
    "    string = re.sub(r\"\\)\", \" \\) \", string)\n",
    "    string = re.sub(r\"\\?\", \" \\? \", string)\n",
    "    string = re.sub(r\"\\s{2,}\", \" \", string)\n",
    "    return string.strip().lower()\n",
    "\n",
    "def load_data_and_preprocess(filename):\n",
    "    '''\n",
    "    Read csv file into a DataFrame and tokenize Q1 and Q2 strings\n",
    "    '''\n",
    "    df = pd.read_csv(filename)\n",
    "    print(filename + \" loaded. Preprocessing...\")\n",
    "    df[\"q1\"] = df[\"question1\"].apply(lambda row: tokenize_str(str(row)))\n",
    "    df[\"q2\"] = df[\"question2\"].apply(lambda row: tokenize_str(str(row)))\n",
    "    print(\"Preprocess done!\")\n",
    "    return df\n",
    "\n",
    "df_train = load_data_and_preprocess(\"train.csv\")"
   ]
  },
  {
   "cell_type": "code",
   "execution_count": 9,
   "metadata": {
    "collapsed": false
   },
   "outputs": [
    {
     "name": "stdout",
     "output_type": "stream",
     "text": [
      "(80, \"when will the bjp government strip all the muslims and the christians of the indian citizenship and put them on boats like the rohingya 's of burma \\\\?\")\n",
      "(80, 'why india does not apply the \"burma rohingya model\" to deport illegal bangladeshis \\\\?')\n",
      "\n",
      "(81, 'what is the right etiquette for wishing a jehovah witness happy birthday \\\\?')\n",
      "(81, 'how important is it to be the first person to wish someone a happy birthday \\\\?')\n",
      "\n",
      "(82, 'if someone wants to open a commercial fm radio station in any city of india , how much does it cost and what is the procedure \\\\?')\n",
      "(82, 'i want to make a travel commercial or clip video hd , for india and new zealand how much will it cost \\\\?')\n",
      "\n",
      "(83, 'why do swiss despise asians \\\\?')\n",
      "(83, 'why do technical employees despise sales people so much \\\\?')\n",
      "\n",
      "(84, 'what are some of the high salary income jobs in the field of biotechnology \\\\?')\n",
      "(84, 'what are some high paying jobs for a fresher with an m tech in biotechnology \\\\?')\n",
      "\n",
      "(85, 'how can i increase my height after 21 also \\\\?')\n",
      "(85, 'can height increase after 25 \\\\?')\n",
      "\n",
      "(86, 'what were the major effects of the cambodia earthquake , and how do these effects compare to the kamchatca earthquakes in 1952 \\\\?')\n",
      "(86, 'what were the major effects of the cambodia earthquake , and how do these effects compare to the valparaiso earthquake in 1822 \\\\?')\n",
      "\n",
      "(87, 'what is the difference between sincerity and fairness \\\\?')\n",
      "(87, \"what 's the difference between honest and sincere \\\\?\")\n",
      "\n",
      "(88, 'which is the best gaming laptop under 60k inr \\\\?')\n",
      "(88, 'which is the best gaming laptop under rs 60000 \\\\?')\n",
      "\n",
      "(89, 'what is your review of the next warrior: proving grounds part 9 \\\\?')\n",
      "(89, 'what is your review of the next warrior: proving grounds part 5 \\\\?')\n",
      "\n"
     ]
    }
   ],
   "source": [
    "# Inspect several samples of preprocessed text\n",
    "a = 80\n",
    "for i in range(a,a+10):\n",
    "    print(i, df_train[\"q1\"][i])\n",
    "    print(i, df_train[\"q2\"][i])\n",
    "    print(\"\")"
   ]
  },
  {
   "cell_type": "code",
   "execution_count": 10,
   "metadata": {
    "collapsed": false
   },
   "outputs": [
    {
     "name": "stdout",
     "output_type": "stream",
     "text": [
      "what is the step by step guide to invest in share market in india \\? what is the step by step guide to invest in share market \\?\n"
     ]
    }
   ],
   "source": [
    "# Merge Q1 and Q2 as one feature\n",
    "df_train[\"merged\"] = df_train[\"q1\"] + \" \" + df_train[\"q2\"]\n",
    "\n",
    "print(df_train[\"merged\"][0])"
   ]
  },
  {
   "cell_type": "code",
   "execution_count": 20,
   "metadata": {
    "collapsed": false
   },
   "outputs": [
    {
     "name": "stdout",
     "output_type": "stream",
     "text": [
      "(400247L,)\n",
      "(4043L,)\n"
     ]
    }
   ],
   "source": [
    "# Split into stratified training and validation set\n",
    "from sklearn.model_selection import train_test_split\n",
    "\n",
    "X_train, X_val, y_train, y_val = train_test_split(\n",
    "    df_train[\"merged\"], \n",
    "    df_train[\"is_duplicate\"], \n",
    "    test_size=0.01, \n",
    "    random_state=42)\n",
    "\n",
    "print(X_train.shape)\n",
    "print(X_val.shape)"
   ]
  },
  {
   "cell_type": "code",
   "execution_count": null,
   "metadata": {
    "collapsed": false
   },
   "outputs": [
    {
     "name": "stdout",
     "output_type": "stream",
     "text": [
      "149263\n",
      "255027\n",
      "Percentage duplicates in dataset: 36.92 %\n",
      "Neg class needs to be: 755361.0 to balance to 16.5 % duplicates.\n"
     ]
    }
   ],
   "source": [
    "# Random oversampling\n",
    "\n",
    "df_pos = df_train[df_train[\"is_duplicate\"] == 1]\n",
    "df_neg = df_train[df_train[\"is_duplicate\"] == 0]\n",
    "\n",
    "print(len(df_pos))\n",
    "print(len(df_neg))\n",
    "\n",
    "def pos_neg_stats(df_pos, df_neg, pct):\n",
    "    '''\n",
    "    Calculates stats on class imbalance\n",
    "    '''\n",
    "    # Pos / Pos + Neg * 100\n",
    "    pos_neg_ratio = float(len(df_pos)) / (len(df_pos) + len(df_neg)) * 100\n",
    "    print(\"Percentage duplicates in dataset: \" + str(np.round(pos_neg_ratio, 2)) + \" %\")\n",
    "\n",
    "    # Pos / Pos + Neg = 16.5%, then: Neg = Pos * 100 / 16.5 - Pos\n",
    "    neg_class = (len(df_pos) * 100 / pct) - len(df_pos)\n",
    "    print(\"Neg class needs to be: \" +\n",
    "          str(np.round(neg_class, 0)) + \" to balance to \" + str(pct) + \" % duplicates.\")\n",
    "\n",
    "def random_oversample(pos, neg, amt):\n",
    "    '''\n",
    "    Oversamples majority class by an amount\n",
    "    '''\n",
    "    # Create empty DF\n",
    "    df = pd.DataFrame(columns=(\"q1\", \"q2\", \"is_duplicate\"))\n",
    "    # Randomly pick Q1 and Q2 to form synthetic rows. One from Pos and one from Neg\n",
    "    for i in range(amt):\n",
    "        ques1 = np.random.choice([\"q1\", \"q2\"])\n",
    "        rand_pos = np.random.choice(pos[ques1])\n",
    "        ques2 = np.random.choice([\"q1\", \"q2\"])\n",
    "        rand_neg = np.random.choice(neg[ques2])\n",
    "        df.loc[i, \"q1\"] = rand_pos\n",
    "        df.loc[i, \"q2\"] = rand_neg\n",
    "        df.loc[i, \"is_duplicate\"] = 0\n",
    "     \n",
    "    # Merge Q1 and Q2\n",
    "    df[\"merged\"] = df[\"q1\"] + \" \" + df[\"q2\"]\n",
    "    return df\n",
    "    \n",
    "pos_neg_stats(df_pos, df_neg, 16.5)\n",
    "df_add = random_oversample(df_pos, df_neg, 500334)\n",
    "display(df_add.head())"
   ]
  },
  {
   "cell_type": "code",
   "execution_count": 6,
   "metadata": {
    "collapsed": false
   },
   "outputs": [
    {
     "name": "stdout",
     "output_type": "stream",
     "text": [
      "Index([u'id', u'qid1', u'qid2', u'question1', u'question2', u'is_duplicate',\n",
      "       u'q1', u'q2', u'merged'],\n",
      "      dtype='object')\n"
     ]
    },
    {
     "data": {
      "text/plain": [
       "'df_train = df_train[[5, 8]]\\n\\nprint(df_train.columns)'"
      ]
     },
     "execution_count": 6,
     "metadata": {},
     "output_type": "execute_result"
    }
   ],
   "source": [
    "# Check avaiable columns\n",
    "print(df_train.columns)\n",
    "\n",
    "# Drop unused columns\n",
    "'''df_train = df_train[[5, 8]]\n",
    "\n",
    "print(df_train.columns)'''"
   ]
  },
  {
   "cell_type": "code",
   "execution_count": 7,
   "metadata": {
    "collapsed": false
   },
   "outputs": [
    {
     "data": {
      "text/plain": [
       "'rom = ADASYN(random_state=42, ratio = 0.165) # ratio: minority class / majority class\\nX_train_res, y_train_res = rom.fit_sample(X_train, y_train)\\n\\nprint(y_train.value_counts())'"
      ]
     },
     "execution_count": 7,
     "metadata": {},
     "output_type": "execute_result"
    }
   ],
   "source": [
    "# Split into stratified training and validation set\n",
    "from sklearn.model_selection import train_test_split\n",
    "from imblearn.over_sampling import ADASYN\n",
    "\n",
    "'''X_train, X_val, y_train, y_val = train_test_split(\n",
    "    df_train[\"merged\"], \n",
    "    df_train[\"is_duplicate\"], \n",
    "    test_size=0.1, \n",
    "    random_state=42)'''\n",
    "\n",
    "# Oversample the majority class (non-duplicates) to match 16.5% of duplicates in the test.csv set\n",
    "'''rom = ADASYN(random_state=42, ratio = 0.165) # ratio: minority class / majority class\n",
    "X_train_res, y_train_res = rom.fit_sample(X_train, y_train)\n",
    "\n",
    "print(y_train.value_counts())'''\n",
    "\n"
   ]
  },
  {
   "cell_type": "code",
   "execution_count": 8,
   "metadata": {
    "collapsed": false
   },
   "outputs": [
    {
     "data": {
      "text/plain": [
       "\"import pickle\\n\\nwith open('preprocess_x_1.pickle', 'wb') as handle:\\n    pickle.dump(x_shuffled, handle, protocol=pickle.HIGHEST_PROTOCOL)\""
      ]
     },
     "execution_count": 8,
     "metadata": {},
     "output_type": "execute_result"
    }
   ],
   "source": [
    "# Saves preprocessed data into a pickle file\n",
    "'''import pickle\n",
    "\n",
    "with open('preprocess_x_1.pickle', 'wb') as handle:\n",
    "    pickle.dump(x_shuffled, handle, protocol=pickle.HIGHEST_PROTOCOL)'''"
   ]
  }
 ],
 "metadata": {
  "anaconda-cloud": {},
  "kernelspec": {
   "display_name": "Python [Root]",
   "language": "python",
   "name": "Python [Root]"
  },
  "language_info": {
   "codemirror_mode": {
    "name": "ipython",
    "version": 2
   },
   "file_extension": ".py",
   "mimetype": "text/x-python",
   "name": "python",
   "nbconvert_exporter": "python",
   "pygments_lexer": "ipython2",
   "version": "2.7.12"
  }
 },
 "nbformat": 4,
 "nbformat_minor": 0
}

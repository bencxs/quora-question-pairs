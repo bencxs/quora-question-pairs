{
 "cells": [
  {
   "cell_type": "code",
   "execution_count": 1,
   "metadata": {
    "collapsed": true
   },
   "outputs": [],
   "source": [
    "import pandas as pd\n",
    "import numpy as np\n",
    "import re\n",
    "import seaborn as sns\n",
    "import matplotlib.pyplot as plt\n",
    "from IPython.display import display # Allows the use of display() for DataFrames\n",
    "%matplotlib inline"
   ]
  },
  {
   "cell_type": "code",
   "execution_count": 2,
   "metadata": {
    "collapsed": false
   },
   "outputs": [
    {
     "name": "stdout",
     "output_type": "stream",
     "text": [
      "train.csv loaded. Preprocessing...\n",
      "Preprocess done!\n"
     ]
    }
   ],
   "source": [
    "def tokenize_str(string):\n",
    "    '''\n",
    "    Tokenization/string cleaning\n",
    "    \n",
    "    '''\n",
    "    string = re.sub(r\"[^A-Za-z0-9()[],?\\'\\`]\", \" \", string)\n",
    "    string = re.sub(r\"\\'s\", \" \\'s\", string)\n",
    "    string = re.sub(r\"\\’s\", \" \\'s\", string)\n",
    "    string = re.sub(r\"\\'m\", \" am\", string)\n",
    "    string = re.sub(r\"\\'ve\", \" have\", string)\n",
    "    string = re.sub(r\"can\\'t\", \" cannot\", string)\n",
    "    string = re.sub(r\"n\\'t\", \" not\", string)\n",
    "    string = re.sub(r\"\\'re\", \" are\", string)\n",
    "    string = re.sub(r\"\\'d\", \" had\", string)\n",
    "    string = re.sub(r\"\\'ll\", \" will\", string)\n",
    "    string = re.sub(r\",\", \" , \", string)\n",
    "    string = re.sub(r\"[...]\", \" \", string)\n",
    "    string = re.sub(r\"/\", \" or \", string)\n",
    "    string = re.sub(r\"-\", \" \", string)\n",
    "    string = re.sub(r\"\\(\", \" \\( \", string)\n",
    "    string = re.sub(r\"\\)\", \" \\) \", string)\n",
    "    string = re.sub(r\"\\?\", \" \\? \", string)\n",
    "    string = re.sub(r\"\\s{2,}\", \" \", string)\n",
    "    return string.strip().lower()\n",
    "\n",
    "def load_data_and_preprocess(filename):\n",
    "    '''\n",
    "    Read csv file into a DataFrame and tokenize Q1 and Q2 strings\n",
    "    '''\n",
    "    df = pd.read_csv(filename)\n",
    "    print(filename + \" loaded. Preprocessing...\")\n",
    "    df[\"q1\"] = df[\"question1\"].apply(lambda row: tokenize_str(str(row)))\n",
    "    df[\"q2\"] = df[\"question2\"].apply(lambda row: tokenize_str(str(row)))\n",
    "    print(\"Preprocess done!\")\n",
    "    return df\n",
    "\n",
    "df_train = load_data_and_preprocess(\"train.csv\")"
   ]
  },
  {
   "cell_type": "code",
   "execution_count": 5,
   "metadata": {
    "collapsed": false
   },
   "outputs": [
    {
     "name": "stdout",
     "output_type": "stream",
     "text": [
      "(80, \"when will the bjp government strip all the muslims and the christians of the indian citizenship and put them on boats like the rohingya 's of burma \\\\?\")\n",
      "(80, 'why india does not apply the \"burma rohingya model\" to deport illegal bangladeshis \\\\?')\n",
      "\n",
      "(81, 'what is the right etiquette for wishing a jehovah witness happy birthday \\\\?')\n",
      "(81, 'how important is it to be the first person to wish someone a happy birthday \\\\?')\n",
      "\n",
      "(82, 'if someone wants to open a commercial fm radio station in any city of india , how much does it cost and what is the procedure \\\\?')\n",
      "(82, 'i want to make a travel commercial or clip video hd , for india and new zealand how much will it cost \\\\?')\n",
      "\n",
      "(83, 'why do swiss despise asians \\\\?')\n",
      "(83, 'why do technical employees despise sales people so much \\\\?')\n",
      "\n",
      "(84, 'what are some of the high salary income jobs in the field of biotechnology \\\\?')\n",
      "(84, 'what are some high paying jobs for a fresher with an m tech in biotechnology \\\\?')\n",
      "\n",
      "(85, 'how can i increase my height after 21 also \\\\?')\n",
      "(85, 'can height increase after 25 \\\\?')\n",
      "\n",
      "(86, 'what were the major effects of the cambodia earthquake , and how do these effects compare to the kamchatca earthquakes in 1952 \\\\?')\n",
      "(86, 'what were the major effects of the cambodia earthquake , and how do these effects compare to the valparaiso earthquake in 1822 \\\\?')\n",
      "\n",
      "(87, 'what is the difference between sincerity and fairness \\\\?')\n",
      "(87, \"what 's the difference between honest and sincere \\\\?\")\n",
      "\n",
      "(88, 'which is the best gaming laptop under 60k inr \\\\?')\n",
      "(88, 'which is the best gaming laptop under rs 60000 \\\\?')\n",
      "\n",
      "(89, 'what is your review of the next warrior: proving grounds part 9 \\\\?')\n",
      "(89, 'what is your review of the next warrior: proving grounds part 5 \\\\?')\n",
      "\n"
     ]
    }
   ],
   "source": [
    "# Inspect several samples of preprocessed text\n",
    "a = 80\n",
    "for i in range(a,a+10):\n",
    "    print(i, df_train[\"q1\"][i])\n",
    "    print(i, df_train[\"q2\"][i])\n",
    "    print(\"\")"
   ]
  },
  {
   "cell_type": "code",
   "execution_count": 6,
   "metadata": {
    "collapsed": false
   },
   "outputs": [
    {
     "name": "stdout",
     "output_type": "stream",
     "text": [
      "what is the step by step guide to invest in share market in india \\? what is the step by step guide to invest in share market \\?\n"
     ]
    }
   ],
   "source": [
    "# Merge Q1 and Q2 as one feature\n",
    "df_train[\"merged\"] = df_train[\"q1\"] + \" \" + df_train[\"q2\"]\n",
    "\n",
    "print(df_train[\"merged\"][0])"
   ]
  },
  {
   "cell_type": "code",
   "execution_count": 7,
   "metadata": {
    "collapsed": false
   },
   "outputs": [
    {
     "name": "stdout",
     "output_type": "stream",
     "text": [
      "(384075, 9)\n",
      "(20215,)\n",
      "(384075,)\n",
      "20215\n"
     ]
    }
   ],
   "source": [
    "# Split into stratified training and validation set\n",
    "from sklearn.model_selection import train_test_split\n",
    "\n",
    "X = df_train\n",
    "y = df_train[\"is_duplicate\"]\n",
    "\n",
    "X_train, X_val, y_train, y_val = train_test_split(\n",
    "    X, \n",
    "    y, \n",
    "    test_size=0.05, \n",
    "    random_state=42)\n",
    "\n",
    "# Drop all columns except \"merged\" for X_val as it is the feature\n",
    "# We keep all columns in X_train as we want to use those to oversample later\n",
    "X_val = X_val[\"merged\"]\n",
    "\n",
    "# Convert the validation set labels to a list of either 0 (not duplicate) or 1 (duplicates)\n",
    "y_val = y_val.values.tolist()\n",
    "\n",
    "print(X_train.shape)\n",
    "print(X_val.shape)\n",
    "print(y_train.shape)\n",
    "print(len(y_val))"
   ]
  },
  {
   "cell_type": "code",
   "execution_count": 10,
   "metadata": {
    "collapsed": false
   },
   "outputs": [
    {
     "name": "stdout",
     "output_type": "stream",
     "text": [
      "('Total positive pair examples: ', 141792)\n",
      "('Total negative pair examples: ', 242283)\n",
      "Percentage duplicates in dataset: 36.92 %\n",
      "Neg class needs to be: 717553.0 to balance to 16.5 % duplicates.\n",
      "141792\n",
      "141792\n",
      "242283\n",
      "141792\n",
      "141792\n",
      "('Total oversampled examples to choose from: ', 809451)\n",
      "('Total examples in rebalanced dataset: ', 717553)\n",
      "Percentage duplicates in rebalanced dataset: 16.5 %\n"
     ]
    },
    {
     "data": {
      "text/html": [
       "<div>\n",
       "<table border=\"1\" class=\"dataframe\">\n",
       "  <thead>\n",
       "    <tr style=\"text-align: right;\">\n",
       "      <th></th>\n",
       "      <th>q1</th>\n",
       "      <th>q2</th>\n",
       "      <th>is_duplicate</th>\n",
       "    </tr>\n",
       "  </thead>\n",
       "  <tbody>\n",
       "    <tr>\n",
       "      <th>0</th>\n",
       "      <td>what are the career prospects with a degree in...</td>\n",
       "      <td>which one will be prefferable moto g3 \\( 8gb r...</td>\n",
       "      <td>0</td>\n",
       "    </tr>\n",
       "    <tr>\n",
       "      <th>1</th>\n",
       "      <td>how did donald trump become such a racist \\?</td>\n",
       "      <td>is it normal for my partner to constantly brin...</td>\n",
       "      <td>0</td>\n",
       "    </tr>\n",
       "    <tr>\n",
       "      <th>2</th>\n",
       "      <td>what is your new year 's resolution for 2017 \\?</td>\n",
       "      <td>what are the best businesses to start in 2015 \\?</td>\n",
       "      <td>0</td>\n",
       "    </tr>\n",
       "    <tr>\n",
       "      <th>3</th>\n",
       "      <td>what is the best way to support a music artist...</td>\n",
       "      <td>what are the general interview questions asked...</td>\n",
       "      <td>0</td>\n",
       "    </tr>\n",
       "    <tr>\n",
       "      <th>4</th>\n",
       "      <td>how does quora determine how many views an ans...</td>\n",
       "      <td>what is hillary clinton 's policy for providin...</td>\n",
       "      <td>0</td>\n",
       "    </tr>\n",
       "  </tbody>\n",
       "</table>\n",
       "</div>"
      ],
      "text/plain": [
       "                                                  q1  \\\n",
       "0  what are the career prospects with a degree in...   \n",
       "1       how did donald trump become such a racist \\?   \n",
       "2    what is your new year 's resolution for 2017 \\?   \n",
       "3  what is the best way to support a music artist...   \n",
       "4  how does quora determine how many views an ans...   \n",
       "\n",
       "                                                  q2  is_duplicate  \n",
       "0  which one will be prefferable moto g3 \\( 8gb r...             0  \n",
       "1  is it normal for my partner to constantly brin...             0  \n",
       "2   what are the best businesses to start in 2015 \\?             0  \n",
       "3  what are the general interview questions asked...             0  \n",
       "4  what is hillary clinton 's policy for providin...             0  "
      ]
     },
     "metadata": {},
     "output_type": "display_data"
    },
    {
     "data": {
      "text/html": [
       "<div>\n",
       "<table border=\"1\" class=\"dataframe\">\n",
       "  <thead>\n",
       "    <tr style=\"text-align: right;\">\n",
       "      <th></th>\n",
       "      <th>q1</th>\n",
       "      <th>q2</th>\n",
       "      <th>is_duplicate</th>\n",
       "    </tr>\n",
       "  </thead>\n",
       "  <tbody>\n",
       "    <tr>\n",
       "      <th>717548</th>\n",
       "      <td>does cantonese sound like vietnamese \\?</td>\n",
       "      <td>how different are the finnish and estonian lan...</td>\n",
       "      <td>0</td>\n",
       "    </tr>\n",
       "    <tr>\n",
       "      <th>717549</th>\n",
       "      <td>why does planets move in elliptical orbit why ...</td>\n",
       "      <td>why has instagram been banned in china \\?</td>\n",
       "      <td>0</td>\n",
       "    </tr>\n",
       "    <tr>\n",
       "      <th>717550</th>\n",
       "      <td>what precautions should i take during high blo...</td>\n",
       "      <td>between laravel , django and rails , which fra...</td>\n",
       "      <td>0</td>\n",
       "    </tr>\n",
       "    <tr>\n",
       "      <th>717551</th>\n",
       "      <td>who is your favourite disney character \\?</td>\n",
       "      <td>will i save fuel if i cruise while the clutch ...</td>\n",
       "      <td>0</td>\n",
       "    </tr>\n",
       "    <tr>\n",
       "      <th>717552</th>\n",
       "      <td>is brexit the politics of anti intellectualism \\?</td>\n",
       "      <td>i am workout very hard but not able to loss we...</td>\n",
       "      <td>0</td>\n",
       "    </tr>\n",
       "  </tbody>\n",
       "</table>\n",
       "</div>"
      ],
      "text/plain": [
       "                                                       q1  \\\n",
       "717548            does cantonese sound like vietnamese \\?   \n",
       "717549  why does planets move in elliptical orbit why ...   \n",
       "717550  what precautions should i take during high blo...   \n",
       "717551          who is your favourite disney character \\?   \n",
       "717552  is brexit the politics of anti intellectualism \\?   \n",
       "\n",
       "                                                       q2  is_duplicate  \n",
       "717548  how different are the finnish and estonian lan...             0  \n",
       "717549          why has instagram been banned in china \\?             0  \n",
       "717550  between laravel , django and rails , which fra...             0  \n",
       "717551  will i save fuel if i cruise while the clutch ...             0  \n",
       "717552  i am workout very hard but not able to loss we...             0  "
      ]
     },
     "metadata": {},
     "output_type": "display_data"
    },
    {
     "data": {
      "text/html": [
       "<div>\n",
       "<table border=\"1\" class=\"dataframe\">\n",
       "  <thead>\n",
       "    <tr style=\"text-align: right;\">\n",
       "      <th></th>\n",
       "      <th>q1</th>\n",
       "      <th>q2</th>\n",
       "    </tr>\n",
       "  </thead>\n",
       "  <tbody>\n",
       "    <tr>\n",
       "      <th>count</th>\n",
       "      <td>717553</td>\n",
       "      <td>717553</td>\n",
       "    </tr>\n",
       "    <tr>\n",
       "      <th>unique</th>\n",
       "      <td>319933</td>\n",
       "      <td>348433</td>\n",
       "    </tr>\n",
       "    <tr>\n",
       "      <th>top</th>\n",
       "      <td>how do i lose weight \\?</td>\n",
       "      <td>what are the best ways to lose weight \\?</td>\n",
       "    </tr>\n",
       "    <tr>\n",
       "      <th>freq</th>\n",
       "      <td>185</td>\n",
       "      <td>143</td>\n",
       "    </tr>\n",
       "  </tbody>\n",
       "</table>\n",
       "</div>"
      ],
      "text/plain": [
       "                             q1                                        q2\n",
       "count                    717553                                    717553\n",
       "unique                   319933                                    348433\n",
       "top     how do i lose weight \\?  what are the best ways to lose weight \\?\n",
       "freq                        185                                       143"
      ]
     },
     "metadata": {},
     "output_type": "display_data"
    }
   ],
   "source": [
    "# Random oversampling\n",
    "\n",
    "df_pos = X_train[X_train[\"is_duplicate\"] == 1]\n",
    "df_neg = X_train[X_train[\"is_duplicate\"] == 0]\n",
    "\n",
    "print(\"Total positive pair examples: \", len(df_pos))\n",
    "print(\"Total negative pair examples: \", len(df_neg))\n",
    "\n",
    "def pos_neg_stats(df_pos, df_neg, pct):\n",
    "    '''\n",
    "    Calculates stats on class imbalance\n",
    "    '''\n",
    "    # Pos / Pos + Neg * 100\n",
    "    pos_neg_ratio = float(len(df_pos)) / (len(df_pos) + len(df_neg)) * 100\n",
    "    print(\"Percentage duplicates in dataset: \" + str(np.round(pos_neg_ratio, 2)) + \" %\")\n",
    "\n",
    "    # Pos / Pos + Neg = 16.5%, then: Neg = Pos * 100 / 16.5 - Pos\n",
    "    neg_class = (len(df_pos) * 100 / pct) - len(df_pos)\n",
    "    print(\"Neg class needs to be: \" +\n",
    "          str(np.round(neg_class, 0)) + \" to balance to \" + str(pct) + \" % duplicates.\")\n",
    "\n",
    "def random_oversample(pos, neg, size):\n",
    "    '''\n",
    "    Oversamples majority class by an amount\n",
    "    '''\n",
    "    pos = pos.sample(frac=1).reset_index(drop=True)\n",
    "    neg = neg.sample(frac=1).reset_index(drop=True)\n",
    "    \n",
    "    df = pd.DataFrame()\n",
    "    df[\"q1\"] = pos[\"q1\"]\n",
    "    df[\"q2\"] = neg[\"q2\"]\n",
    "    print(len(df))\n",
    "    \n",
    "    df2 = pd.DataFrame()\n",
    "    df2[\"q1\"] = pos[\"q2\"]\n",
    "    df2[\"q2\"] = neg[\"q1\"]\n",
    "    print(len(df2))\n",
    "    \n",
    "    df = df.append(df2)\n",
    "    \n",
    "    pos = pos.sample(frac=1).reset_index(drop=True)\n",
    "    neg = neg.sample(frac=1).reset_index(drop=True)\n",
    "    \n",
    "    df3 = pd.DataFrame()\n",
    "    df3[\"q1\"] = neg[\"q2\"]\n",
    "    df3[\"q2\"] = neg[\"q1\"]\n",
    "    print(len(df3))\n",
    "    \n",
    "    df = df.append(df3)\n",
    "    \n",
    "    pos = pos.sample(frac=1).reset_index(drop=True)\n",
    "    neg = neg.sample(frac=1).reset_index(drop=True)\n",
    "    \n",
    "    df4 = pd.DataFrame()\n",
    "    df4[\"q1\"] = pos[\"q2\"]\n",
    "    df4[\"q2\"] = neg[\"q2\"]\n",
    "    print(len(df4))\n",
    "    \n",
    "    df = df.append(df4)\n",
    "    \n",
    "    pos = pos.sample(frac=1).reset_index(drop=True)\n",
    "    neg = neg.sample(frac=1).reset_index(drop=True)\n",
    "    \n",
    "    df5 = pd.DataFrame()\n",
    "    df5[\"q1\"] = pos[\"q1\"]\n",
    "    df5[\"q2\"] = neg[\"q1\"]\n",
    "    print(len(df5))\n",
    "    \n",
    "    df = df.append(df5)\n",
    "    df = df.reset_index(drop=True)\n",
    "    print(\"Total oversampled examples to choose from: \", len(df))\n",
    "    \n",
    "    df_sample_ind = np.random.choice(df.index.values, size=size, replace=False)\n",
    "    df_sample = df.loc[df_sample_ind]\n",
    "    df_sample = df_sample.reset_index(drop=True)\n",
    "    df_sample[\"is_duplicate\"] = 0 \n",
    "    \n",
    "    print(\"Total examples in rebalanced dataset: \", len(df_sample))\n",
    "    \n",
    "    # Pos / Pos + Neg * 100\n",
    "    pos_neg_ratio = float(len(pos)) / (len(pos) + len(df_sample)) * 100\n",
    "    print(\"Percentage duplicates in rebalanced dataset: \" + str(np.round(pos_neg_ratio, 2)) + \" %\")\n",
    "    \n",
    "    display(df_sample.head())\n",
    "    display(df_sample.tail())\n",
    "    display(df_sample[[\"q1\", \"q2\"]].describe())\n",
    "    \n",
    "    return df_sample\n",
    "    \n",
    "pos_neg_stats(df_pos, df_neg, 16.5)\n",
    "#df_sample = random_oversample(df_pos, df_neg, 747796)\n",
    "df_sample = random_oversample(df_pos, df_neg, 717553)"
   ]
  },
  {
   "cell_type": "code",
   "execution_count": 11,
   "metadata": {
    "collapsed": false
   },
   "outputs": [
    {
     "name": "stdout",
     "output_type": "stream",
     "text": [
      "717553\n",
      "717553\n"
     ]
    }
   ],
   "source": [
    "# Merge Q1 and Q2 as one feature\n",
    "df_sample[\"merged\"] = df_sample[\"q1\"] + \" \" + df_sample[\"q2\"]\n",
    "\n",
    "# Set feature and value\n",
    "X_train_sample = df_sample[\"merged\"]\n",
    "#y_train_sample = df_sample[\"is_duplicate\"]\n",
    "\n",
    "# Convert training set labels to 0 or 1\n",
    "y_train_sample = df_sample[\"is_duplicate\"].values.tolist()\n",
    "\n",
    "print(len(X_train_sample))\n",
    "print(len(y_train_sample))"
   ]
  },
  {
   "cell_type": "code",
   "execution_count": 12,
   "metadata": {
    "collapsed": false
   },
   "outputs": [
    {
     "name": "stdout",
     "output_type": "stream",
     "text": [
      "seq length stats: \n",
      "('Max: ', 1322)\n",
      "('Min: ', 12)\n",
      "\n",
      "('Q1: ', 92.0)\n",
      "('Mean: ', 126.042148751369)\n",
      "('Q3: ', 149.0)\n",
      "('IQR: ', 57.0)\n",
      "Outlier range: < 6.5 and > 234.5\n"
     ]
    },
    {
     "data": {
      "image/png": "[encoded data removed]",
      "text/plain": [
       "<matplotlib.figure.Figure at 0x7f23383bddd0>"
      ]
     },
     "metadata": {},
     "output_type": "display_data"
    }
   ],
   "source": [
    "# Concatenate training and validation set for sequence length analysis\n",
    "# and token id encoding later\n",
    "X_all = pd.concat([X_train_sample, X_val], axis=0)\n",
    "\n",
    "# Plot sequence length of questions, and determine outliers\n",
    "sns.set_style('whitegrid')\n",
    "seq_length = []\n",
    "for row in X_all:\n",
    "    seq_length.append(len(row))\n",
    "\n",
    "sns.distplot(seq_length, kde=False)\n",
    "plt.xlabel(\"Sequence length\")\n",
    "plt.ylabel(\"Occurences\")\n",
    "\n",
    "print(\"seq length stats: \")\n",
    "print(\"Max: \", max(seq_length))\n",
    "print(\"Min: \", min(seq_length))\n",
    "print(\"\")\n",
    "Q1 = np.percentile(seq_length, 25)\n",
    "Q3 = np.percentile(seq_length, 75)\n",
    "IQR = Q3 - Q1\n",
    "print(\"Q1: \", Q1)\n",
    "print(\"Mean: \", np.mean(seq_length))\n",
    "print(\"Q3: \", Q3)\n",
    "print(\"IQR: \", IQR)\n",
    "print(\"Outlier range: < \" + str(Q1 - 1.5*IQR) + \" and > \" + str(Q3 + 1.5*IQR))"
   ]
  },
  {
   "cell_type": "code",
   "execution_count": 13,
   "metadata": {
    "collapsed": false
   },
   "outputs": [
    {
     "name": "stdout",
     "output_type": "stream",
     "text": [
      "('Vocabulary size: ', 107623)\n"
     ]
    }
   ],
   "source": [
    "def build_vocabulary(df):\n",
    "    '''\n",
    "    Assigns an id to each unique word in dataset\n",
    "    '''\n",
    "    # Splits train dataset into tokens and calculates the unique number of tokens\n",
    "    unique = [word for row in df for word in row.split()]\n",
    "    token_count = set(unique)\n",
    "    print(\"Vocabulary size: \", len(token_count))\n",
    "    \n",
    "    # Build vocabulary\n",
    "    vocab = {}\n",
    "    for i, u in enumerate(token_count):\n",
    "        vocab[u] = i\n",
    "    \n",
    "    return vocab\n",
    "\n",
    "vocab = build_vocabulary(X_all)"
   ]
  },
  {
   "cell_type": "code",
   "execution_count": 14,
   "metadata": {
    "collapsed": false
   },
   "outputs": [
    {
     "name": "stdout",
     "output_type": "stream",
     "text": [
      "[[92199, 106311, 70690, 64767, 39912, 1548, 45351, 65919, 20369, 10479, 64836, 93420, 54779, 105913, 69077, 67897, 68950, 18981, 64850, 4978, 10592, 2305, 89217, 64851, 68950, 18981, 64850, 16601, 10592, 24843, 18702, 89217, 64851, 64836], [40392, 47763, 50988, 105153, 3050, 41217, 45351, 24871, 64836, 35877, 20361, 101923, 67418, 23346, 63149, 81807, 27281, 29492, 28983, 23346, 55359, 43556, 20369, 57369, 24843, 102647, 64836]]\n",
      "[[40392, 70477, 73118, 68780, 63020, 8196, 20369, 78980, 64836, 40392, 70477, 73118, 68780, 63020, 8196, 20369, 53739, 64836], [92199, 106311, 99661, 24827, 70690, 13519, 67220, 56499, 67418, 86268, 35620, 64836, 92199, 106311, 99661, 102650, 67220, 56499, 67418, 12207, 53201, 64836]]\n"
     ]
    }
   ],
   "source": [
    "def convert_token_to_token_id(df, vocabulary):\n",
    "    '''\n",
    "    Converts tokens in dataframe into ids, referencing from a vocabulary\n",
    "    '''\n",
    "    token_id = []\n",
    "    for row in df:\n",
    "        iid = []\n",
    "        for word in row.split():\n",
    "            iid.append(vocabulary.get(word))\n",
    "        token_id.append(iid)\n",
    "    return token_id\n",
    "\n",
    "X_train_sample = convert_token_to_token_id(X_train_sample, vocab)\n",
    "X_val = convert_token_to_token_id(X_val, vocab)\n",
    "\n",
    "print(X_train_sample[:2])\n",
    "print(X_val[:2])"
   ]
  },
  {
   "cell_type": "code",
   "execution_count": 15,
   "metadata": {
    "collapsed": false
   },
   "outputs": [
    {
     "name": "stdout",
     "output_type": "stream",
     "text": [
      "File saved.\n"
     ]
    }
   ],
   "source": [
    "# Saves preprocessed data into a pickle file\n",
    "import pickle\n",
    "\n",
    "with open('preprocess_2.pickle', 'wb') as f:\n",
    "    pickle.dump(X_train_sample, f, protocol=pickle.HIGHEST_PROTOCOL)\n",
    "    pickle.dump(X_val, f, protocol=pickle.HIGHEST_PROTOCOL)\n",
    "    pickle.dump(y_train_sample, f, protocol=pickle.HIGHEST_PROTOCOL)\n",
    "    pickle.dump(y_val, f, protocol=pickle.HIGHEST_PROTOCOL)\n",
    "    \n",
    "print(\"File saved.\")"
   ]
  },
  {
   "cell_type": "code",
   "execution_count": null,
   "metadata": {
    "collapsed": true
   },
   "outputs": [],
   "source": []
  }
 ],
 "metadata": {
  "anaconda-cloud": {},
  "kernelspec": {
   "display_name": "Python 2",
   "language": "python",
   "name": "python2"
  },
  "language_info": {
   "codemirror_mode": {
    "name": "ipython",
    "version": 2
   },
   "file_extension": ".py",
   "mimetype": "text/x-python",
   "name": "python",
   "nbconvert_exporter": "python",
   "pygments_lexer": "ipython2",
   "version": "2.7.6"
  }
 },
 "nbformat": 4,
 "nbformat_minor": 0
}

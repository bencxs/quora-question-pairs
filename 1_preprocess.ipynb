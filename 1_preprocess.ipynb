{
 "cells": [
  {
   "cell_type": "code",
   "execution_count": 1,
   "metadata": {
    "collapsed": true
   },
   "outputs": [],
   "source": [
    "import pandas as pd\n",
    "import numpy as np\n",
    "import re\n",
    "from IPython.display import display # Allows the use of display() for DataFrames"
   ]
  },
  {
   "cell_type": "code",
   "execution_count": 2,
   "metadata": {
    "collapsed": false
   },
   "outputs": [
    {
     "name": "stdout",
     "output_type": "stream",
     "text": [
      "train.csv loaded. Preprocessing...\n",
      "Preprocess done!\n"
     ]
    }
   ],
   "source": [
    "def tokenize_str(string):\n",
    "    '''\n",
    "    Tokenization/string cleaning\n",
    "    \n",
    "    '''\n",
    "    string = re.sub(r\"[^A-Za-z0-9()[],?\\'\\`]\", \" \", string)\n",
    "    string = re.sub(r\"\\'s\", \" \\'s\", string)\n",
    "    string = re.sub(r\"\\’s\", \" \\'s\", string)\n",
    "    string = re.sub(r\"\\'m\", \" am\", string)\n",
    "    string = re.sub(r\"\\'ve\", \" have\", string)\n",
    "    string = re.sub(r\"can\\'t\", \" cannot\", string)\n",
    "    string = re.sub(r\"n\\'t\", \" not\", string)\n",
    "    string = re.sub(r\"\\'re\", \" are\", string)\n",
    "    string = re.sub(r\"\\'d\", \" had\", string)\n",
    "    string = re.sub(r\"\\'ll\", \" will\", string)\n",
    "    string = re.sub(r\",\", \" , \", string)\n",
    "    string = re.sub(r\"[...]\", \" \", string)\n",
    "    string = re.sub(r\"/\", \" or \", string)\n",
    "    string = re.sub(r\"-\", \" \", string)\n",
    "    string = re.sub(r\"\\(\", \" \\( \", string)\n",
    "    string = re.sub(r\"\\)\", \" \\) \", string)\n",
    "    string = re.sub(r\"\\?\", \" \\? \", string)\n",
    "    string = re.sub(r\"\\s{2,}\", \" \", string)\n",
    "    return string.strip().lower()\n",
    "\n",
    "def load_data_and_preprocess(filename):\n",
    "    '''\n",
    "    Read csv file into a DataFrame and tokenize Q1 and Q2 strings\n",
    "    '''\n",
    "    df = pd.read_csv(filename)\n",
    "    print(filename + \" loaded. Preprocessing...\")\n",
    "    df[\"q1\"] = df[\"question1\"].apply(lambda row: tokenize_str(str(row)))\n",
    "    df[\"q2\"] = df[\"question2\"].apply(lambda row: tokenize_str(str(row)))\n",
    "    print(\"Preprocess done!\")\n",
    "    return df\n",
    "\n",
    "df_train = load_data_and_preprocess(\"train.csv\")"
   ]
  },
  {
   "cell_type": "code",
   "execution_count": 3,
   "metadata": {
    "collapsed": false
   },
   "outputs": [
    {
     "name": "stdout",
     "output_type": "stream",
     "text": [
      "(80, \"when will the bjp government strip all the muslims and the christians of the indian citizenship and put them on boats like the rohingya 's of burma \\\\?\")\n",
      "(80, 'why india does not apply the \"burma rohingya model\" to deport illegal bangladeshis \\\\?')\n",
      "\n",
      "(81, 'what is the right etiquette for wishing a jehovah witness happy birthday \\\\?')\n",
      "(81, 'how important is it to be the first person to wish someone a happy birthday \\\\?')\n",
      "\n",
      "(82, 'if someone wants to open a commercial fm radio station in any city of india , how much does it cost and what is the procedure \\\\?')\n",
      "(82, 'i want to make a travel commercial or clip video hd , for india and new zealand how much will it cost \\\\?')\n",
      "\n",
      "(83, 'why do swiss despise asians \\\\?')\n",
      "(83, 'why do technical employees despise sales people so much \\\\?')\n",
      "\n",
      "(84, 'what are some of the high salary income jobs in the field of biotechnology \\\\?')\n",
      "(84, 'what are some high paying jobs for a fresher with an m tech in biotechnology \\\\?')\n",
      "\n",
      "(85, 'how can i increase my height after 21 also \\\\?')\n",
      "(85, 'can height increase after 25 \\\\?')\n",
      "\n",
      "(86, 'what were the major effects of the cambodia earthquake , and how do these effects compare to the kamchatca earthquakes in 1952 \\\\?')\n",
      "(86, 'what were the major effects of the cambodia earthquake , and how do these effects compare to the valparaiso earthquake in 1822 \\\\?')\n",
      "\n",
      "(87, 'what is the difference between sincerity and fairness \\\\?')\n",
      "(87, \"what 's the difference between honest and sincere \\\\?\")\n",
      "\n",
      "(88, 'which is the best gaming laptop under 60k inr \\\\?')\n",
      "(88, 'which is the best gaming laptop under rs 60000 \\\\?')\n",
      "\n",
      "(89, 'what is your review of the next warrior: proving grounds part 9 \\\\?')\n",
      "(89, 'what is your review of the next warrior: proving grounds part 5 \\\\?')\n",
      "\n"
     ]
    }
   ],
   "source": [
    "# Inspect several samples of preprocessed text\n",
    "a = 80\n",
    "for i in range(a,a+10):\n",
    "    print(i, df_train[\"q1\"][i])\n",
    "    print(i, df_train[\"q2\"][i])\n",
    "    print(\"\")"
   ]
  },
  {
   "cell_type": "code",
   "execution_count": 4,
   "metadata": {
    "collapsed": false
   },
   "outputs": [
    {
     "name": "stdout",
     "output_type": "stream",
     "text": [
      "what is the step by step guide to invest in share market in india \\? what is the step by step guide to invest in share market \\?\n"
     ]
    }
   ],
   "source": [
    "# Merge Q1 and Q2 as one feature\n",
    "df_train[\"merged\"] = df_train[\"q1\"] + \" \" + df_train[\"q2\"]\n",
    "\n",
    "print(df_train[\"merged\"][0])"
   ]
  },
  {
   "cell_type": "code",
   "execution_count": 5,
   "metadata": {
    "collapsed": false
   },
   "outputs": [
    {
     "name": "stdout",
     "output_type": "stream",
     "text": [
      "(400247, 9)\n",
      "(4043, 9)\n"
     ]
    }
   ],
   "source": [
    "# Split into stratified training and validation set\n",
    "from sklearn.model_selection import train_test_split\n",
    "\n",
    "X_train, X_val, y_train, y_val = train_test_split(\n",
    "    df_train, \n",
    "    df_train[\"is_duplicate\"], \n",
    "    test_size=0.01, \n",
    "    random_state=42)\n",
    "\n",
    "print(X_train.shape)\n",
    "print(X_val.shape)"
   ]
  },
  {
   "cell_type": "code",
   "execution_count": 19,
   "metadata": {
    "collapsed": false
   },
   "outputs": [
    {
     "name": "stdout",
     "output_type": "stream",
     "text": [
      "('Total positive pair examples: ', 147768)\n",
      "('Total negative pair examples: ', 252479)\n",
      "Percentage duplicates in dataset: 36.92 %\n",
      "Neg class needs to be: 747796.0 to balance to 16.5 % duplicates.\n",
      "147768\n",
      "147768\n",
      "252479\n",
      "147768\n",
      "147768\n",
      "('Total oversampled examples to choose from: ', 843551)\n",
      "('Total examples in rebalanced dataset: ', 747796)\n"
     ]
    },
    {
     "data": {
      "text/html": [
       "<div>\n",
       "<table border=\"1\" class=\"dataframe\">\n",
       "  <thead>\n",
       "    <tr style=\"text-align: right;\">\n",
       "      <th></th>\n",
       "      <th>q1</th>\n",
       "      <th>q2</th>\n",
       "      <th>is_duplicate</th>\n",
       "    </tr>\n",
       "  </thead>\n",
       "  <tbody>\n",
       "    <tr>\n",
       "      <th>0</th>\n",
       "      <td>how do i know if my phone is tapped \\?</td>\n",
       "      <td>what does it feel like to awaken from a coma \\?</td>\n",
       "      <td>0</td>\n",
       "    </tr>\n",
       "    <tr>\n",
       "      <th>1</th>\n",
       "      <td>i like quora , but what is the difference betw...</td>\n",
       "      <td>which are the worst engineering colleges in in...</td>\n",
       "      <td>0</td>\n",
       "    </tr>\n",
       "    <tr>\n",
       "      <th>2</th>\n",
       "      <td>is the indian currency has gps nano chip \\?</td>\n",
       "      <td>why mustache grows in young girls face \\?</td>\n",
       "      <td>0</td>\n",
       "    </tr>\n",
       "    <tr>\n",
       "      <th>3</th>\n",
       "      <td>linguistics: how to self study linguistics \\?</td>\n",
       "      <td>why do i get anxiety after a night of drinking \\?</td>\n",
       "      <td>0</td>\n",
       "    </tr>\n",
       "    <tr>\n",
       "      <th>4</th>\n",
       "      <td>does gary johnson have any chance left at winn...</td>\n",
       "      <td>where are the ideal places to install security...</td>\n",
       "      <td>0</td>\n",
       "    </tr>\n",
       "  </tbody>\n",
       "</table>\n",
       "</div>"
      ],
      "text/plain": [
       "                                                  q1  \\\n",
       "0             how do i know if my phone is tapped \\?   \n",
       "1  i like quora , but what is the difference betw...   \n",
       "2        is the indian currency has gps nano chip \\?   \n",
       "3      linguistics: how to self study linguistics \\?   \n",
       "4  does gary johnson have any chance left at winn...   \n",
       "\n",
       "                                                  q2  is_duplicate  \n",
       "0    what does it feel like to awaken from a coma \\?             0  \n",
       "1  which are the worst engineering colleges in in...             0  \n",
       "2          why mustache grows in young girls face \\?             0  \n",
       "3  why do i get anxiety after a night of drinking \\?             0  \n",
       "4  where are the ideal places to install security...             0  "
      ]
     },
     "metadata": {},
     "output_type": "display_data"
    },
    {
     "data": {
      "text/html": [
       "<div>\n",
       "<table border=\"1\" class=\"dataframe\">\n",
       "  <thead>\n",
       "    <tr style=\"text-align: right;\">\n",
       "      <th></th>\n",
       "      <th>q1</th>\n",
       "      <th>q2</th>\n",
       "      <th>is_duplicate</th>\n",
       "    </tr>\n",
       "  </thead>\n",
       "  <tbody>\n",
       "    <tr>\n",
       "      <th>747791</th>\n",
       "      <td>is proof of god 's existence overwhelming \\?</td>\n",
       "      <td>what are some of the strongest proofs of god '...</td>\n",
       "      <td>0</td>\n",
       "    </tr>\n",
       "    <tr>\n",
       "      <th>747792</th>\n",
       "      <td>will you computers be able to have dreams or a...</td>\n",
       "      <td>are there any cultures in which feminine men a...</td>\n",
       "      <td>0</td>\n",
       "    </tr>\n",
       "    <tr>\n",
       "      <th>747793</th>\n",
       "      <td>what are the sizes of pizza hut pizzas \\?</td>\n",
       "      <td>what 's the size of a domino 's pizza \\( mediu...</td>\n",
       "      <td>0</td>\n",
       "    </tr>\n",
       "    <tr>\n",
       "      <th>747794</th>\n",
       "      <td>i have written a proof of a proposition about ...</td>\n",
       "      <td>is “please see attached document” correct \\?</td>\n",
       "      <td>0</td>\n",
       "    </tr>\n",
       "    <tr>\n",
       "      <th>747795</th>\n",
       "      <td>how do i stop growing taller \\?</td>\n",
       "      <td>what is the university of guelph good for \\?</td>\n",
       "      <td>0</td>\n",
       "    </tr>\n",
       "  </tbody>\n",
       "</table>\n",
       "</div>"
      ],
      "text/plain": [
       "                                                       q1  \\\n",
       "747791       is proof of god 's existence overwhelming \\?   \n",
       "747792  will you computers be able to have dreams or a...   \n",
       "747793          what are the sizes of pizza hut pizzas \\?   \n",
       "747794  i have written a proof of a proposition about ...   \n",
       "747795                    how do i stop growing taller \\?   \n",
       "\n",
       "                                                       q2  is_duplicate  \n",
       "747791  what are some of the strongest proofs of god '...             0  \n",
       "747792  are there any cultures in which feminine men a...             0  \n",
       "747793  what 's the size of a domino 's pizza \\( mediu...             0  \n",
       "747794       is “please see attached document” correct \\?             0  \n",
       "747795       what is the university of guelph good for \\?             0  "
      ]
     },
     "metadata": {},
     "output_type": "display_data"
    },
    {
     "data": {
      "text/html": [
       "<div>\n",
       "<table border=\"1\" class=\"dataframe\">\n",
       "  <thead>\n",
       "    <tr style=\"text-align: right;\">\n",
       "      <th></th>\n",
       "      <th>q1</th>\n",
       "      <th>q2</th>\n",
       "    </tr>\n",
       "  </thead>\n",
       "  <tbody>\n",
       "    <tr>\n",
       "      <th>count</th>\n",
       "      <td>747796</td>\n",
       "      <td>747796</td>\n",
       "    </tr>\n",
       "    <tr>\n",
       "      <th>unique</th>\n",
       "      <td>330555</td>\n",
       "      <td>361495</td>\n",
       "    </tr>\n",
       "    <tr>\n",
       "      <th>top</th>\n",
       "      <td>how do i lose weight \\?</td>\n",
       "      <td>what are the best ways to lose weight \\?</td>\n",
       "    </tr>\n",
       "    <tr>\n",
       "      <th>freq</th>\n",
       "      <td>198</td>\n",
       "      <td>127</td>\n",
       "    </tr>\n",
       "  </tbody>\n",
       "</table>\n",
       "</div>"
      ],
      "text/plain": [
       "                             q1                                        q2\n",
       "count                    747796                                    747796\n",
       "unique                   330555                                    361495\n",
       "top     how do i lose weight \\?  what are the best ways to lose weight \\?\n",
       "freq                        198                                       127"
      ]
     },
     "metadata": {},
     "output_type": "display_data"
    }
   ],
   "source": [
    "# Random oversampling\n",
    "\n",
    "df_pos = X_train[X_train[\"is_duplicate\"] == 1]\n",
    "df_neg = X_train[X_train[\"is_duplicate\"] == 0]\n",
    "\n",
    "print(\"Total positive pair examples: \", len(df_pos))\n",
    "print(\"Total negative pair examples: \", len(df_neg))\n",
    "\n",
    "def pos_neg_stats(df_pos, df_neg, pct):\n",
    "    '''\n",
    "    Calculates stats on class imbalance\n",
    "    '''\n",
    "    # Pos / Pos + Neg * 100\n",
    "    pos_neg_ratio = float(len(df_pos)) / (len(df_pos) + len(df_neg)) * 100\n",
    "    print(\"Percentage duplicates in dataset: \" + str(np.round(pos_neg_ratio, 2)) + \" %\")\n",
    "\n",
    "    # Pos / Pos + Neg = 16.5%, then: Neg = Pos * 100 / 16.5 - Pos\n",
    "    neg_class = (len(df_pos) * 100 / pct) - len(df_pos)\n",
    "    print(\"Neg class needs to be: \" +\n",
    "          str(np.round(neg_class, 0)) + \" to balance to \" + str(pct) + \" % duplicates.\")\n",
    "\n",
    "def random_oversample(pos, neg, size):\n",
    "    '''\n",
    "    Oversamples majority class by an amount\n",
    "    '''\n",
    "    pos = pos.sample(frac=1).reset_index(drop=True)\n",
    "    neg = neg.sample(frac=1).reset_index(drop=True)\n",
    "    \n",
    "    df = pd.DataFrame()\n",
    "    df[\"q1\"] = pos[\"q1\"]\n",
    "    df[\"q2\"] = neg[\"q2\"]\n",
    "    print(len(df))\n",
    "    \n",
    "    df2 = pd.DataFrame()\n",
    "    df2[\"q1\"] = pos[\"q2\"]\n",
    "    df2[\"q2\"] = neg[\"q1\"]\n",
    "    print(len(df2))\n",
    "    \n",
    "    df = df.append(df2)\n",
    "    \n",
    "    pos = pos.sample(frac=1).reset_index(drop=True)\n",
    "    neg = neg.sample(frac=1).reset_index(drop=True)\n",
    "    \n",
    "    df3 = pd.DataFrame()\n",
    "    df3[\"q1\"] = neg[\"q2\"]\n",
    "    df3[\"q2\"] = neg[\"q1\"]\n",
    "    print(len(df3))\n",
    "    \n",
    "    df = df.append(df3)\n",
    "    \n",
    "    pos = pos.sample(frac=1).reset_index(drop=True)\n",
    "    neg = neg.sample(frac=1).reset_index(drop=True)\n",
    "    \n",
    "    df4 = pd.DataFrame()\n",
    "    df4[\"q1\"] = pos[\"q2\"]\n",
    "    df4[\"q2\"] = neg[\"q2\"]\n",
    "    print(len(df4))\n",
    "    \n",
    "    df = df.append(df4)\n",
    "    \n",
    "    pos = pos.sample(frac=1).reset_index(drop=True)\n",
    "    neg = neg.sample(frac=1).reset_index(drop=True)\n",
    "    \n",
    "    df5 = pd.DataFrame()\n",
    "    df5[\"q1\"] = pos[\"q1\"]\n",
    "    df5[\"q2\"] = neg[\"q1\"]\n",
    "    print(len(df5))\n",
    "    \n",
    "    df = df.append(df5)\n",
    "    df = df.reset_index(drop=True)\n",
    "    print(\"Total oversampled examples to choose from: \", len(df))\n",
    "    \n",
    "    df_sample_ind = np.random.choice(df.index.values, size=size, replace=False)\n",
    "    df_sample = df.loc[df_sample_ind]\n",
    "    df_sample = df_sample.reset_index(drop=True)\n",
    "    df_sample[\"is_duplicate\"] = 0 \n",
    "    \n",
    "    print(\"Total examples in rebalanced dataset: \", len(df_sample))\n",
    "    display(df_sample.head())\n",
    "    display(df_sample.tail())\n",
    "    display(df_sample[[\"q1\", \"q2\"]].describe())\n",
    "    \n",
    "    return df_sample\n",
    "    \n",
    "pos_neg_stats(df_pos, df_neg, 16.5)\n",
    "df_sample = random_oversample(df_pos, df_neg, 747796)"
   ]
  },
  {
   "cell_type": "code",
   "execution_count": 29,
   "metadata": {
    "collapsed": false
   },
   "outputs": [
    {
     "name": "stdout",
     "output_type": "stream",
     "text": [
      "747796\n",
      "747796\n"
     ]
    }
   ],
   "source": [
    "# Merge Q1 and Q2 as one feature\n",
    "df_sample[\"merged\"] = df_sample[\"q1\"] + \" \" + df_sample[\"q2\"]\n",
    "\n",
    "# Set feature and value\n",
    "X_train_sample = df_sample[\"merged\"]\n",
    "X_val_sample = df_sample[\"is_duplicate\"]\n",
    "\n",
    "print(len(X_train_sample))\n",
    "print(len(X_val_sample))"
   ]
  },
  {
   "cell_type": "code",
   "execution_count": 30,
   "metadata": {
    "collapsed": false
   },
   "outputs": [
    {
     "name": "stdout",
     "output_type": "stream",
     "text": [
      "File saved.\n"
     ]
    }
   ],
   "source": [
    "# Saves preprocessed data into a pickle file\n",
    "import pickle\n",
    "\n",
    "with open('preprocess.pickle', 'wb') as f:\n",
    "    pickle.dump(X_train_sample, f, protocol=pickle.HIGHEST_PROTOCOL)\n",
    "    pickle.dump(X_val_sample, f, protocol=pickle.HIGHEST_PROTOCOL)\n",
    "    pickle.dump(y_train, f, protocol=pickle.HIGHEST_PROTOCOL)\n",
    "    pickle.dump(y_val, f, protocol=pickle.HIGHEST_PROTOCOL)\n",
    "    \n",
    "print(\"File saved.\")"
   ]
  },
  {
   "cell_type": "code",
   "execution_count": null,
   "metadata": {
    "collapsed": true
   },
   "outputs": [],
   "source": []
  }
 ],
 "metadata": {
  "anaconda-cloud": {},
  "kernelspec": {
   "display_name": "Python [Root]",
   "language": "python",
   "name": "Python [Root]"
  },
  "language_info": {
   "codemirror_mode": {
    "name": "ipython",
    "version": 2
   },
   "file_extension": ".py",
   "mimetype": "text/x-python",
   "name": "python",
   "nbconvert_exporter": "python",
   "pygments_lexer": "ipython2",
   "version": "2.7.12"
  }
 },
 "nbformat": 4,
 "nbformat_minor": 0
}

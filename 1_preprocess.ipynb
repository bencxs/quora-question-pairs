{
 "cells": [
  {
   "cell_type": "code",
   "execution_count": 1,
   "metadata": {
    "collapsed": false,
    "deletable": true,
    "editable": true
   },
   "outputs": [],
   "source": [
    "from __future__ import division, print_function, absolute_import\n",
    "from IPython.display import display # Allows the use of display() for DataFrames\n",
    "import pandas as pd\n",
    "import numpy as np\n",
    "import re\n",
    "import seaborn as sns\n",
    "import matplotlib.pyplot as plt\n",
    "%matplotlib inline"
   ]
  },
  {
   "cell_type": "code",
   "execution_count": 2,
   "metadata": {
    "collapsed": false,
    "deletable": true,
    "editable": true
   },
   "outputs": [
    {
     "name": "stdout",
     "output_type": "stream",
     "text": [
      "train.csv loaded. Preprocessing...\n",
      "Preprocess done!\n"
     ]
    }
   ],
   "source": [
    "def tokenize_str(string):\n",
    "    '''\n",
    "    Tokenization/string cleaning\n",
    "    \n",
    "    '''\n",
    "    string = re.sub(r\"[^A-Za-z0-9()[],?\\'\\`]\", \" \", string)\n",
    "    string = re.sub(r\"\\'s\", \" \\'s\", string)\n",
    "    string = re.sub(r\"\\’s\", \" \\'s\", string)\n",
    "    string = re.sub(r\"\\'m\", \" am\", string)\n",
    "    string = re.sub(r\"\\'ve\", \" have\", string)\n",
    "    string = re.sub(r\"can\\'t\", \" cannot\", string)\n",
    "    string = re.sub(r\"n\\'t\", \" not\", string)\n",
    "    string = re.sub(r\"\\'re\", \" are\", string)\n",
    "    string = re.sub(r\"\\'d\", \" had\", string)\n",
    "    string = re.sub(r\"\\'ll\", \" will\", string)\n",
    "    string = re.sub(r\",\", \" , \", string)\n",
    "    string = re.sub(r\"[...]\", \" \", string)\n",
    "    string = re.sub(r\"/\", \" or \", string)\n",
    "    string = re.sub(r\"-\", \" \", string)\n",
    "    string = re.sub(r\"\\(\", \" \\( \", string)\n",
    "    string = re.sub(r\"\\)\", \" \\) \", string)\n",
    "    string = re.sub(r\"\\?\", \" \\? \", string)\n",
    "    string = re.sub(r\"\\s{2,}\", \" \", string)\n",
    "    return string.strip().lower()\n",
    "\n",
    "def load_data_and_preprocess(filename):\n",
    "    '''\n",
    "    Read csv file into a DataFrame and tokenize Q1 and Q2 strings\n",
    "    '''\n",
    "    df = pd.read_csv(filename)\n",
    "    print(filename + \" loaded. Preprocessing...\")\n",
    "    df[\"q1\"] = df[\"question1\"].apply(lambda row: tokenize_str(str(row)))\n",
    "    df[\"q2\"] = df[\"question2\"].apply(lambda row: tokenize_str(str(row)))\n",
    "    print(\"Preprocess done!\")\n",
    "    return df\n",
    "\n",
    "df_train = load_data_and_preprocess(\"train.csv\")"
   ]
  },
  {
   "cell_type": "code",
   "execution_count": 3,
   "metadata": {
    "collapsed": false,
    "deletable": true,
    "editable": true
   },
   "outputs": [
    {
     "name": "stdout",
     "output_type": "stream",
     "text": [
      "80 when will the bjp government strip all the muslims and the christians of the indian citizenship and put them on boats like the rohingya 's of burma \\?\n",
      "80 why india does not apply the \"burma rohingya model\" to deport illegal bangladeshis \\?\n",
      "\n",
      "81 what is the right etiquette for wishing a jehovah witness happy birthday \\?\n",
      "81 how important is it to be the first person to wish someone a happy birthday \\?\n",
      "\n",
      "82 if someone wants to open a commercial fm radio station in any city of india , how much does it cost and what is the procedure \\?\n",
      "82 i want to make a travel commercial or clip video hd , for india and new zealand how much will it cost \\?\n",
      "\n",
      "83 why do swiss despise asians \\?\n",
      "83 why do technical employees despise sales people so much \\?\n",
      "\n",
      "84 what are some of the high salary income jobs in the field of biotechnology \\?\n",
      "84 what are some high paying jobs for a fresher with an m tech in biotechnology \\?\n",
      "\n",
      "85 how can i increase my height after 21 also \\?\n",
      "85 can height increase after 25 \\?\n",
      "\n",
      "86 what were the major effects of the cambodia earthquake , and how do these effects compare to the kamchatca earthquakes in 1952 \\?\n",
      "86 what were the major effects of the cambodia earthquake , and how do these effects compare to the valparaiso earthquake in 1822 \\?\n",
      "\n",
      "87 what is the difference between sincerity and fairness \\?\n",
      "87 what 's the difference between honest and sincere \\?\n",
      "\n",
      "88 which is the best gaming laptop under 60k inr \\?\n",
      "88 which is the best gaming laptop under rs 60000 \\?\n",
      "\n",
      "89 what is your review of the next warrior: proving grounds part 9 \\?\n",
      "89 what is your review of the next warrior: proving grounds part 5 \\?\n",
      "\n"
     ]
    }
   ],
   "source": [
    "# Inspect several samples of preprocessed text\n",
    "a = 80\n",
    "for i in range(a,a+10):\n",
    "    print(i, df_train[\"q1\"][i])\n",
    "    print(i, df_train[\"q2\"][i])\n",
    "    print(\"\")"
   ]
  },
  {
   "cell_type": "code",
   "execution_count": 4,
   "metadata": {
    "collapsed": false,
    "deletable": true,
    "editable": true
   },
   "outputs": [
    {
     "name": "stdout",
     "output_type": "stream",
     "text": [
      "what is the step by step guide to invest in share market in india \\? what is the step by step guide to invest in share market \\?\n"
     ]
    }
   ],
   "source": [
    "# Merge Q1 and Q2 as one feature\n",
    "df_train[\"merged\"] = df_train[\"q1\"] + \" \" + df_train[\"q2\"]\n",
    "\n",
    "print(df_train[\"merged\"][0])"
   ]
  },
  {
   "cell_type": "code",
   "execution_count": 5,
   "metadata": {
    "collapsed": false,
    "deletable": true,
    "editable": true
   },
   "outputs": [
    {
     "name": "stdout",
     "output_type": "stream",
     "text": [
      "(384075, 9)\n",
      "(20215,)\n",
      "(384075,)\n",
      "20215\n"
     ]
    }
   ],
   "source": [
    "# Split into stratified training and validation set\n",
    "from sklearn.model_selection import train_test_split\n",
    "\n",
    "X = df_train\n",
    "y = df_train[\"is_duplicate\"]\n",
    "\n",
    "X_train, X_val, y_train, y_val = train_test_split(\n",
    "    X, \n",
    "    y, \n",
    "    test_size=0.05, \n",
    "    random_state=42)\n",
    "\n",
    "# Drop all columns except \"merged\" for X_val as it is the feature\n",
    "# We keep all columns in X_train as we want to use those to oversample later\n",
    "X_val = X_val[\"merged\"]\n",
    "\n",
    "# Convert the validation set labels to a list of either 0 (not duplicate) or 1 (duplicates)\n",
    "y_val = y_val.values.tolist()\n",
    "\n",
    "print(X_train.shape)\n",
    "print(X_val.shape)\n",
    "print(y_train.shape)\n",
    "print(len(y_val))"
   ]
  },
  {
   "cell_type": "code",
   "execution_count": 6,
   "metadata": {
    "collapsed": false,
    "deletable": true,
    "editable": true
   },
   "outputs": [
    {
     "name": "stdout",
     "output_type": "stream",
     "text": [
      "0    0.630822\n",
      "1    0.369178\n",
      "Name: is_duplicate, dtype: float64\n",
      "Counter({0: 12744, 1: 7471}) 0.369577046747\n"
     ]
    }
   ],
   "source": [
    "from collections import Counter\n",
    "\n",
    "print(y_train.value_counts(normalize=True))\n",
    "\n",
    "c = Counter(y_val)\n",
    "print(c, float(c[1])/(c[0] + c[1]))"
   ]
  },
  {
   "cell_type": "code",
   "execution_count": 7,
   "metadata": {
    "collapsed": false,
    "deletable": true,
    "editable": true
   },
   "outputs": [
    {
     "name": "stdout",
     "output_type": "stream",
     "text": [
      "Pos class needs to be: 2518 to balance to 16.5 % duplicates.\n"
     ]
    }
   ],
   "source": [
    "# pos / pos + neg = 16.5%\n",
    "pct = 16.5\n",
    "pos_class = (pct * c[0] / (100 - pct))\n",
    "pos_class_amt = int(np.round(pos_class, 0))\n",
    "print(\"Pos class needs to be: \" +\n",
    "      str(pos_class_amt) + \" to balance to \" + str(pct) + \" % duplicates.\")"
   ]
  },
  {
   "cell_type": "code",
   "execution_count": 8,
   "metadata": {
    "collapsed": false,
    "deletable": true,
    "editable": true
   },
   "outputs": [
    {
     "name": "stdout",
     "output_type": "stream",
     "text": [
      "4953\n",
      "15262 15262\n",
      "Counter({0: 12744, 1: 2518}) 0.164984929891\n"
     ]
    }
   ],
   "source": [
    "# Undersample the positive class in the validation set\n",
    "def undersample(features, labels, pos_act, pos_needed):\n",
    "    cnt = 0\n",
    "    ind = []\n",
    "    for i, (feat, label) in enumerate(zip(features, labels)):\n",
    "        if label == 1 and cnt < (pos_act - pos_needed):\n",
    "            ind.append(i)\n",
    "            cnt += 1\n",
    "\n",
    "    features = features.drop(features.index[ind])\n",
    "    for i in sorted(ind, reverse=True):\n",
    "        del labels[i]\n",
    "\n",
    "    print(len(ind))     \n",
    "    print(len(features), len(labels))\n",
    "\n",
    "    r = Counter(labels)\n",
    "    print(r, float(r[1])/(r[0] + r[1]))\n",
    "    \n",
    "    return features, labels\n",
    "\n",
    "X_val, y_val = undersample(X_val, y_val, c[1], pos_class_amt)"
   ]
  },
  {
   "cell_type": "code",
   "execution_count": 9,
   "metadata": {
    "collapsed": false,
    "deletable": true,
    "editable": true
   },
   "outputs": [
    {
     "name": "stdout",
     "output_type": "stream",
     "text": [
      "Total positive pair examples:  141792\n",
      "Total negative pair examples:  242283\n",
      "Total oversampled examples to choose from:  809451\n",
      "Percentage duplicates in dataset: 36.92 %\n",
      "Neg class needs to be: 717553 to balance to 16.5 % duplicates.\n",
      "Total examples in rebalanced dataset:  859345\n",
      "Percentage duplicates in rebalanced dataset: 16.5 %\n"
     ]
    },
    {
     "data": {
      "text/html": [
       "<div>\n",
       "<table border=\"1\" class=\"dataframe\">\n",
       "  <thead>\n",
       "    <tr style=\"text-align: right;\">\n",
       "      <th></th>\n",
       "      <th>q1</th>\n",
       "      <th>q2</th>\n",
       "      <th>is_duplicate</th>\n",
       "    </tr>\n",
       "  </thead>\n",
       "  <tbody>\n",
       "    <tr>\n",
       "      <th>0</th>\n",
       "      <td>what is difference between anti matter and dar...</td>\n",
       "      <td>how do atheists view marriage \\?</td>\n",
       "      <td>0</td>\n",
       "    </tr>\n",
       "    <tr>\n",
       "      <th>1</th>\n",
       "      <td>where can i get very friendly assistance in sy...</td>\n",
       "      <td>which city is better to live in: vancouver or ...</td>\n",
       "      <td>0</td>\n",
       "    </tr>\n",
       "    <tr>\n",
       "      <th>2</th>\n",
       "      <td>what are the best dieting tips \\?</td>\n",
       "      <td>what are good diet tips \\?</td>\n",
       "      <td>1</td>\n",
       "    </tr>\n",
       "    <tr>\n",
       "      <th>3</th>\n",
       "      <td>what is maturity in general \\?</td>\n",
       "      <td>how much does an ips officer get monthly \\?</td>\n",
       "      <td>0</td>\n",
       "    </tr>\n",
       "    <tr>\n",
       "      <th>4</th>\n",
       "      <td>was charlie chaplin a gypsy \\?</td>\n",
       "      <td>was charlie chaplin of angloromani or romani o...</td>\n",
       "      <td>1</td>\n",
       "    </tr>\n",
       "  </tbody>\n",
       "</table>\n",
       "</div>"
      ],
      "text/plain": [
       "                                                  q1  \\\n",
       "0  what is difference between anti matter and dar...   \n",
       "1  where can i get very friendly assistance in sy...   \n",
       "2                  what are the best dieting tips \\?   \n",
       "3                     what is maturity in general \\?   \n",
       "4                     was charlie chaplin a gypsy \\?   \n",
       "\n",
       "                                                  q2  is_duplicate  \n",
       "0                   how do atheists view marriage \\?             0  \n",
       "1  which city is better to live in: vancouver or ...             0  \n",
       "2                         what are good diet tips \\?             1  \n",
       "3        how much does an ips officer get monthly \\?             0  \n",
       "4  was charlie chaplin of angloromani or romani o...             1  "
      ]
     },
     "metadata": {},
     "output_type": "display_data"
    },
    {
     "data": {
      "text/html": [
       "<div>\n",
       "<table border=\"1\" class=\"dataframe\">\n",
       "  <thead>\n",
       "    <tr style=\"text-align: right;\">\n",
       "      <th></th>\n",
       "      <th>q1</th>\n",
       "      <th>q2</th>\n",
       "      <th>is_duplicate</th>\n",
       "    </tr>\n",
       "  </thead>\n",
       "  <tbody>\n",
       "    <tr>\n",
       "      <th>859340</th>\n",
       "      <td>if you were granted one wish , what would you ...</td>\n",
       "      <td>why is turkey fighting the kurds \\?</td>\n",
       "      <td>0</td>\n",
       "    </tr>\n",
       "    <tr>\n",
       "      <th>859341</th>\n",
       "      <td>why do people believe in flat earth \\?</td>\n",
       "      <td>was jimi hendrix father really part cherokee i...</td>\n",
       "      <td>0</td>\n",
       "    </tr>\n",
       "    <tr>\n",
       "      <th>859342</th>\n",
       "      <td>why do pizzas have a plastic table in their ce...</td>\n",
       "      <td>i am a pizza hut delivery driver what are some...</td>\n",
       "      <td>0</td>\n",
       "    </tr>\n",
       "    <tr>\n",
       "      <th>859343</th>\n",
       "      <td>i want to share my feelings as i can find no o...</td>\n",
       "      <td>what should i do if my car runs out of gas \\?</td>\n",
       "      <td>0</td>\n",
       "    </tr>\n",
       "    <tr>\n",
       "      <th>859344</th>\n",
       "      <td>what are the best ways to get rid of mouth sor...</td>\n",
       "      <td>i am a 20 year old guy and 1 65m \\( 5\"4 ft \\) ...</td>\n",
       "      <td>0</td>\n",
       "    </tr>\n",
       "  </tbody>\n",
       "</table>\n",
       "</div>"
      ],
      "text/plain": [
       "                                                       q1  \\\n",
       "859340  if you were granted one wish , what would you ...   \n",
       "859341             why do people believe in flat earth \\?   \n",
       "859342  why do pizzas have a plastic table in their ce...   \n",
       "859343  i want to share my feelings as i can find no o...   \n",
       "859344  what are the best ways to get rid of mouth sor...   \n",
       "\n",
       "                                                       q2  is_duplicate  \n",
       "859340                why is turkey fighting the kurds \\?             0  \n",
       "859341  was jimi hendrix father really part cherokee i...             0  \n",
       "859342  i am a pizza hut delivery driver what are some...             0  \n",
       "859343      what should i do if my car runs out of gas \\?             0  \n",
       "859344  i am a 20 year old guy and 1 65m \\( 5\"4 ft \\) ...             0  "
      ]
     },
     "metadata": {},
     "output_type": "display_data"
    },
    {
     "data": {
      "text/html": [
       "<div>\n",
       "<table border=\"1\" class=\"dataframe\">\n",
       "  <thead>\n",
       "    <tr style=\"text-align: right;\">\n",
       "      <th></th>\n",
       "      <th>q1</th>\n",
       "      <th>q2</th>\n",
       "    </tr>\n",
       "  </thead>\n",
       "  <tbody>\n",
       "    <tr>\n",
       "      <th>count</th>\n",
       "      <td>859345</td>\n",
       "      <td>859345</td>\n",
       "    </tr>\n",
       "    <tr>\n",
       "      <th>unique</th>\n",
       "      <td>320629</td>\n",
       "      <td>418827</td>\n",
       "    </tr>\n",
       "    <tr>\n",
       "      <th>top</th>\n",
       "      <td>how do i lose weight \\?</td>\n",
       "      <td>what are the best ways to lose weight \\?</td>\n",
       "    </tr>\n",
       "    <tr>\n",
       "      <th>freq</th>\n",
       "      <td>251</td>\n",
       "      <td>122</td>\n",
       "    </tr>\n",
       "  </tbody>\n",
       "</table>\n",
       "</div>"
      ],
      "text/plain": [
       "                             q1                                        q2\n",
       "count                    859345                                    859345\n",
       "unique                   320629                                    418827\n",
       "top     how do i lose weight \\?  what are the best ways to lose weight \\?\n",
       "freq                        251                                       122"
      ]
     },
     "metadata": {},
     "output_type": "display_data"
    }
   ],
   "source": [
    "# Random oversampling\n",
    "\n",
    "df_pos = X_train[X_train[\"is_duplicate\"] == 1]\n",
    "df_neg = X_train[X_train[\"is_duplicate\"] == 0]\n",
    "\n",
    "print(\"Total positive pair examples: \", len(df_pos))\n",
    "print(\"Total negative pair examples: \", len(df_neg))\n",
    "\n",
    "def pos_neg_stats(df_pos, df_neg, pct):\n",
    "    '''\n",
    "    Calculates stats on class imbalance\n",
    "    '''\n",
    "    # Pos / Pos + Neg * 100\n",
    "    pos_neg_ratio = float(len(df_pos)) / (len(df_pos) + len(df_neg)) * 100\n",
    "    print(\"Percentage duplicates in dataset: \" + str(np.round(pos_neg_ratio, 2)) + \" %\")\n",
    "\n",
    "    # Pos / Pos + Neg = 16.5%, then: Neg = Pos * 100 / 16.5 - Pos\n",
    "    neg_class = (len(df_pos) * 100 / pct) - len(df_pos)\n",
    "    neg_class_amt = int(np.round(neg_class, 0))\n",
    "    print(\"Neg class needs to be: \" +\n",
    "          str(neg_class_amt) + \" to balance to \" + str(pct) + \" % duplicates.\")\n",
    "    \n",
    "    return neg_class_amt\n",
    "\n",
    "def random_oversample(pos, neg, pct):\n",
    "    '''\n",
    "    Oversamples majority class by an amount\n",
    "    '''\n",
    "    # Gets a random sample of all rows (frac=1) i.e. shuffling the entire dataset\n",
    "    pos = pos.sample(frac=1).reset_index(drop=True)\n",
    "    neg = neg.sample(frac=1).reset_index(drop=True)\n",
    "    \n",
    "    df = pd.DataFrame()\n",
    "    \n",
    "    df[\"q1\"] = pos[\"q1\"]\n",
    "    df[\"q2\"] = neg[\"q2\"]\n",
    "    #print(len(df))\n",
    "    \n",
    "    df2 = pd.DataFrame()\n",
    "    df2[\"q1\"] = pos[\"q2\"]\n",
    "    df2[\"q2\"] = neg[\"q1\"]\n",
    "    #print(len(df2))\n",
    "    \n",
    "    df = df.append(df2)\n",
    "    \n",
    "    pos = pos.sample(frac=1).reset_index(drop=True)\n",
    "    neg = neg.sample(frac=1).reset_index(drop=True)\n",
    "    \n",
    "    df3 = pd.DataFrame()\n",
    "    df3[\"q1\"] = neg[\"q2\"]\n",
    "    df3[\"q2\"] = neg[\"q1\"]\n",
    "    #print(len(df3))\n",
    "    \n",
    "    df = df.append(df3)\n",
    "    \n",
    "    pos = pos.sample(frac=1).reset_index(drop=True)\n",
    "    neg = neg.sample(frac=1).reset_index(drop=True)\n",
    "    \n",
    "    df4 = pd.DataFrame()\n",
    "    df4[\"q1\"] = pos[\"q2\"]\n",
    "    df4[\"q2\"] = neg[\"q2\"]\n",
    "    #print(len(df4))\n",
    "    \n",
    "    df = df.append(df4)\n",
    "    \n",
    "    pos = pos.sample(frac=1).reset_index(drop=True)\n",
    "    neg = neg.sample(frac=1).reset_index(drop=True)\n",
    "    \n",
    "    df5 = pd.DataFrame()\n",
    "    df5[\"q1\"] = pos[\"q1\"]\n",
    "    df5[\"q2\"] = neg[\"q1\"]\n",
    "    #print(len(df5))\n",
    "    \n",
    "    df = df.append(df5)\n",
    "    df = df.reset_index(drop=True)\n",
    "    print(\"Total oversampled examples to choose from: \", len(df))\n",
    "    \n",
    "    # Randomly select a subset of the oversampled examples \n",
    "    # to fit the required percentage duplicates\n",
    "    df_sample_ind = np.random.choice(\n",
    "        df.index.values, \n",
    "        size=pos_neg_stats(pos, neg, pct), \n",
    "        replace=False)\n",
    "    df_sample = df.loc[df_sample_ind]\n",
    "    df_sample = df_sample.reset_index(drop=True)\n",
    "    df_sample[\"is_duplicate\"] = 0 \n",
    "    \n",
    "    # Retain all examples in positive class\n",
    "    df_pos_all = pos[[\"q1\", \"q2\", \"is_duplicate\"]].copy()\n",
    "    df_sample = pd.concat([df_sample, df_pos_all])\n",
    "    # Reshuffle dataset one last time\n",
    "    df_sample = df_sample.sample(frac=1).reset_index(drop=True)\n",
    "    \n",
    "    print(\"Total examples in rebalanced dataset: \", len(df_sample))\n",
    "    \n",
    "    # Pos / Pos + Neg * 100\n",
    "    pos_neg_ratio = float(len(pos)) / (len(df_sample)) * 100\n",
    "    print(\"Percentage duplicates in rebalanced dataset: \" + str(np.round(pos_neg_ratio, 2)) + \" %\")\n",
    "    \n",
    "    display(df_sample.head())\n",
    "    display(df_sample.tail())\n",
    "    display(df_sample[[\"q1\", \"q2\"]].describe())\n",
    "    \n",
    "    return df_sample\n",
    "    \n",
    "#717553\n",
    "df_sample = random_oversample(df_pos, df_neg, 16.5)"
   ]
  },
  {
   "cell_type": "code",
   "execution_count": 10,
   "metadata": {
    "collapsed": false,
    "deletable": true,
    "editable": true
   },
   "outputs": [
    {
     "name": "stdout",
     "output_type": "stream",
     "text": [
      "0    0.835\n",
      "1    0.165\n",
      "Name: is_duplicate, dtype: float64\n"
     ]
    }
   ],
   "source": [
    "print(df_sample['is_duplicate'].value_counts(normalize=True))"
   ]
  },
  {
   "cell_type": "code",
   "execution_count": 11,
   "metadata": {
    "collapsed": false,
    "deletable": true,
    "editable": true
   },
   "outputs": [
    {
     "name": "stdout",
     "output_type": "stream",
     "text": [
      "859345\n",
      "859345\n"
     ]
    }
   ],
   "source": [
    "# Merge Q1 and Q2 as one feature\n",
    "df_sample[\"merged\"] = df_sample[\"q1\"] + \" \" + df_sample[\"q2\"]\n",
    "\n",
    "# Set feature and value\n",
    "X_train_sample = df_sample[\"merged\"]\n",
    "\n",
    "# Convert training set labels to 0 or 1\n",
    "y_train_sample = df_sample[\"is_duplicate\"].values.tolist()\n",
    "\n",
    "print(len(X_train_sample))\n",
    "print(len(y_train_sample))"
   ]
  },
  {
   "cell_type": "code",
   "execution_count": 12,
   "metadata": {
    "collapsed": false,
    "deletable": true,
    "editable": true
   },
   "outputs": [
    {
     "name": "stdout",
     "output_type": "stream",
     "text": [
      "seq length stats: \n",
      "Max:  297\n",
      "Min:  2\n",
      "\n",
      "Q1:  18.0\n",
      "Mean:  24.6622231471\n",
      "Q3:  29.0\n",
      "IQR:  11.0\n",
      "Outlier range: < 1.5 and > 45.5\n"
     ]
    },
    {
     "data": {
      "image/png": "[encoded data removed]",
      "text/plain": [
       "<matplotlib.figure.Figure at 0x7f3511fcf510>"
      ]
     },
     "metadata": {},
     "output_type": "display_data"
    }
   ],
   "source": [
    "# Concatenate training and validation set for sequence length analysis\n",
    "# and token id encoding later\n",
    "X_all = pd.concat([X_train_sample, X_val], axis=0)\n",
    "\n",
    "# Plot sequence length of questions, and determine outliers\n",
    "sns.set_style('whitegrid')\n",
    "seq_length = []\n",
    "for row in X_all:\n",
    "    seq_length.append(len(row.split(\" \")))\n",
    "\n",
    "sns.distplot(seq_length, kde=False)\n",
    "plt.xlabel(\"Tokenized Sentence length\")\n",
    "plt.ylabel(\"Occurences\")\n",
    "\n",
    "print(\"seq length stats: \")\n",
    "print(\"Max: \", max(seq_length))\n",
    "print(\"Min: \", min(seq_length))\n",
    "print(\"\")\n",
    "Q1 = np.percentile(seq_length, 25)\n",
    "Q3 = np.percentile(seq_length, 75)\n",
    "IQR = Q3 - Q1\n",
    "print(\"Q1: \", Q1)\n",
    "print(\"Mean: \", np.mean(seq_length))\n",
    "print(\"Q3: \", Q3)\n",
    "print(\"IQR: \", IQR)\n",
    "print(\"Outlier range: < \" + str(Q1 - 1.5*IQR) + \" and > \" + str(Q3 + 1.5*IQR))"
   ]
  },
  {
   "cell_type": "code",
   "execution_count": 13,
   "metadata": {
    "collapsed": false,
    "deletable": true,
    "editable": true
   },
   "outputs": [
    {
     "name": "stdout",
     "output_type": "stream",
     "text": [
      "Vocabulary size: 87514\n"
     ]
    }
   ],
   "source": [
    "# Build vocabulary\n",
    "from tensorflow.contrib import learn\n",
    "\n",
    "#max_document_length = max([len(x.split(\" \")) for x in X_all])\n",
    "max_document_length = 45\n",
    "vocab_processor = learn.preprocessing.VocabularyProcessor(max_document_length)\n",
    "#x1 = np.array(list(vocab_processor.fit_transform(X_train_sample)))\n",
    "#x2 = np.array(list(vocab_processor.fit_transform(X_val)))\n",
    "vocab_processor.fit(X_train_sample)\n",
    "vocab_processor.fit(X_val)\n",
    "x1 = np.array(list(vocab_processor.transform(X_train_sample)))\n",
    "x2 = np.array(list(vocab_processor.transform(X_val)))\n",
    "print(\"Vocabulary size: {:d}\".format(len(vocab_processor.vocabulary_)))"
   ]
  },
  {
   "cell_type": "code",
   "execution_count": 21,
   "metadata": {
    "collapsed": false
   },
   "outputs": [
    {
     "name": "stdout",
     "output_type": "stream",
     "text": [
      "what is difference between anti matter and dark matter \\? how do atheists view marriage \\?\n",
      "how do i play pokémon go in korea \\? how do i play pokémon go in china \\?\n"
     ]
    }
   ],
   "source": [
    "print(X_train_sample.iloc[0])\n",
    "print(X_val.iloc[0])"
   ]
  },
  {
   "cell_type": "code",
   "execution_count": 22,
   "metadata": {
    "collapsed": false,
    "deletable": true,
    "editable": true
   },
   "outputs": [
    {
     "name": "stdout",
     "output_type": "stream",
     "text": [
      "[ 1  2  3  4  5  6  7  8  6  9 10 11 12 13  0  0  0  0  0  0  0  0  0  0  0\n",
      "  0  0  0  0  0  0  0  0  0  0  0  0  0  0  0  0  0  0  0  0]\n",
      "[   9   10   16 1111 1968 1969  633   21 1797    9   10   16 1111 1968 1969\n",
      "  633   21  395    0    0    0    0    0    0    0    0    0    0    0    0\n",
      "    0    0    0    0    0    0    0    0    0    0    0    0    0    0    0]\n"
     ]
    }
   ],
   "source": [
    "print(x1[0])\n",
    "print(x2[0])"
   ]
  },
  {
   "cell_type": "code",
   "execution_count": 23,
   "metadata": {
    "collapsed": false,
    "deletable": true,
    "editable": true
   },
   "outputs": [
    {
     "data": {
      "text/plain": [
       "'309.3642 MB'"
      ]
     },
     "execution_count": 23,
     "metadata": {},
     "output_type": "execute_result"
    }
   ],
   "source": [
    "# Check memory usage of x1\n",
    "str(x1.nbytes / 1e6) + \" MB\""
   ]
  },
  {
   "cell_type": "code",
   "execution_count": null,
   "metadata": {
    "collapsed": false,
    "deletable": true,
    "editable": true
   },
   "outputs": [],
   "source": [
    "'''def build_vocabulary(df):\n",
    "    '''\n",
    "    Assigns an id to each unique word in dataset\n",
    "    '''\n",
    "    # Splits train dataset into tokens and calculates the unique number of tokens\n",
    "    unique = [word for row in df for word in row.split()]\n",
    "    token_count = set(unique)\n",
    "    print(\"Vocabulary size: \", len(token_count))\n",
    "    \n",
    "    # Build vocabulary\n",
    "    vocab = {}\n",
    "    for i, u in enumerate(token_count):\n",
    "        vocab[u] = i\n",
    "    \n",
    "    return vocab\n",
    "\n",
    "vocab = build_vocabulary(X_all)'''"
   ]
  },
  {
   "cell_type": "code",
   "execution_count": null,
   "metadata": {
    "collapsed": false,
    "deletable": true,
    "editable": true
   },
   "outputs": [],
   "source": [
    "'''def convert_token_to_token_id(df, vocabulary):\n",
    "    '''\n",
    "    Converts tokens in dataframe into ids, referencing from a vocabulary\n",
    "    '''\n",
    "    token_id = []\n",
    "    for row in df:\n",
    "        iid = []\n",
    "        for word in row.split():\n",
    "            iid.append(vocabulary.get(word))\n",
    "        token_id.append(iid)\n",
    "    return token_id\n",
    "\n",
    "X_train_sample = convert_token_to_token_id(X_train_sample, vocab)\n",
    "X_val = convert_token_to_token_id(X_val, vocab)\n",
    "\n",
    "print(X_train_sample[:2])\n",
    "print(X_val[:2])'''"
   ]
  },
  {
   "cell_type": "code",
   "execution_count": null,
   "metadata": {
    "collapsed": false,
    "deletable": true,
    "editable": true
   },
   "outputs": [],
   "source": [
    "'''import joblib\n",
    "\n",
    "with open('preprocess_train', 'wb'):  \n",
    "    joblib.dump(x1, 'preprocess_train')\n",
    "    \n",
    "print(\"File saved.\")'''"
   ]
  },
  {
   "cell_type": "code",
   "execution_count": 24,
   "metadata": {
    "collapsed": false,
    "deletable": true,
    "editable": true
   },
   "outputs": [
    {
     "name": "stdout",
     "output_type": "stream",
     "text": [
      "File saved.\n"
     ]
    }
   ],
   "source": [
    "# Saves preprocessed data into a pickle file\n",
    "import pickle\n",
    "\n",
    "with open('preprocess_3.pickle', 'wb') as f:\n",
    "    #pickle.dump(X_train_sample, f, protocol=pickle.HIGHEST_PROTOCOL)\n",
    "    pickle.dump(x1, f, protocol=pickle.HIGHEST_PROTOCOL)\n",
    "    pickle.dump(x2, f, protocol=pickle.HIGHEST_PROTOCOL)\n",
    "    pickle.dump(y_train_sample, f, protocol=pickle.HIGHEST_PROTOCOL)\n",
    "    pickle.dump(y_val, f, protocol=pickle.HIGHEST_PROTOCOL)\n",
    "    \n",
    "print(\"File saved.\")"
   ]
  },
  {
   "cell_type": "code",
   "execution_count": null,
   "metadata": {
    "collapsed": true,
    "deletable": true,
    "editable": true
   },
   "outputs": [],
   "source": []
  }
 ],
 "metadata": {
  "anaconda-cloud": {},
  "hide_input": false,
  "kernelspec": {
   "display_name": "Python 2",
   "language": "python",
   "name": "python2"
  },
  "language_info": {
   "codemirror_mode": {
    "name": "ipython",
    "version": 2
   },
   "file_extension": ".py",
   "mimetype": "text/x-python",
   "name": "python",
   "nbconvert_exporter": "python",
   "pygments_lexer": "ipython2",
   "version": "2.7.6"
  }
 },
 "nbformat": 4,
 "nbformat_minor": 0
}
